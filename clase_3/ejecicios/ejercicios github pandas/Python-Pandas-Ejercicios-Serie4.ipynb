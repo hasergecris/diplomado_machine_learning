{
 "cells": [
  {
   "cell_type": "markdown",
   "metadata": {},
   "source": [
    "# Ejercicio 161\n",
    "\n",
    "Seleccionar todas las columnas de un `DataFrame`, excepto una en particular.\n",
    "\n",
    "## Solución:"
   ]
  },
  {
   "cell_type": "code",
   "execution_count": 1,
   "metadata": {},
   "outputs": [],
   "source": [
    "import pandas as pd"
   ]
  },
  {
   "cell_type": "code",
   "execution_count": 2,
   "metadata": {},
   "outputs": [
    {
     "data": {
      "text/html": [
       "<div>\n",
       "<style scoped>\n",
       "    .dataframe tbody tr th:only-of-type {\n",
       "        vertical-align: middle;\n",
       "    }\n",
       "\n",
       "    .dataframe tbody tr th {\n",
       "        vertical-align: top;\n",
       "    }\n",
       "\n",
       "    .dataframe thead th {\n",
       "        text-align: right;\n",
       "    }\n",
       "</style>\n",
       "<table border=\"1\" class=\"dataframe\">\n",
       "  <thead>\n",
       "    <tr style=\"text-align: right;\">\n",
       "      <th></th>\n",
       "      <th>X</th>\n",
       "      <th>Y</th>\n",
       "      <th>Z</th>\n",
       "    </tr>\n",
       "  </thead>\n",
       "  <tbody>\n",
       "    <tr>\n",
       "      <th>0</th>\n",
       "      <td>1</td>\n",
       "      <td>5</td>\n",
       "      <td>2</td>\n",
       "    </tr>\n",
       "    <tr>\n",
       "      <th>1</th>\n",
       "      <td>2</td>\n",
       "      <td>2</td>\n",
       "      <td>2</td>\n",
       "    </tr>\n",
       "    <tr>\n",
       "      <th>2</th>\n",
       "      <td>3</td>\n",
       "      <td>3</td>\n",
       "      <td>5</td>\n",
       "    </tr>\n",
       "    <tr>\n",
       "      <th>3</th>\n",
       "      <td>4</td>\n",
       "      <td>2</td>\n",
       "      <td>7</td>\n",
       "    </tr>\n",
       "    <tr>\n",
       "      <th>4</th>\n",
       "      <td>1</td>\n",
       "      <td>0</td>\n",
       "      <td>1</td>\n",
       "    </tr>\n",
       "  </tbody>\n",
       "</table>\n",
       "</div>"
      ],
      "text/plain": [
       "   X  Y  Z\n",
       "0  1  5  2\n",
       "1  2  2  2\n",
       "2  3  3  5\n",
       "3  4  2  7\n",
       "4  1  0  1"
      ]
     },
     "execution_count": 2,
     "metadata": {},
     "output_type": "execute_result"
    }
   ],
   "source": [
    "datos = {'X': [1, 2, 3, 4, 1], 'Y': [5, 2, 3, 2, 0], 'Z': [2, 2, 5, 7, 1]}\n",
    "\n",
    "df = pd.DataFrame(data=datos)\n",
    "\n",
    "df"
   ]
  },
  {
   "cell_type": "code",
   "execution_count": 3,
   "metadata": {},
   "outputs": [],
   "source": [
    "df = df.loc[:, df.columns != 'Y']"
   ]
  },
  {
   "cell_type": "code",
   "execution_count": 4,
   "metadata": {},
   "outputs": [
    {
     "data": {
      "text/html": [
       "<div>\n",
       "<style scoped>\n",
       "    .dataframe tbody tr th:only-of-type {\n",
       "        vertical-align: middle;\n",
       "    }\n",
       "\n",
       "    .dataframe tbody tr th {\n",
       "        vertical-align: top;\n",
       "    }\n",
       "\n",
       "    .dataframe thead th {\n",
       "        text-align: right;\n",
       "    }\n",
       "</style>\n",
       "<table border=\"1\" class=\"dataframe\">\n",
       "  <thead>\n",
       "    <tr style=\"text-align: right;\">\n",
       "      <th></th>\n",
       "      <th>X</th>\n",
       "      <th>Z</th>\n",
       "    </tr>\n",
       "  </thead>\n",
       "  <tbody>\n",
       "    <tr>\n",
       "      <th>0</th>\n",
       "      <td>1</td>\n",
       "      <td>2</td>\n",
       "    </tr>\n",
       "    <tr>\n",
       "      <th>1</th>\n",
       "      <td>2</td>\n",
       "      <td>2</td>\n",
       "    </tr>\n",
       "    <tr>\n",
       "      <th>2</th>\n",
       "      <td>3</td>\n",
       "      <td>5</td>\n",
       "    </tr>\n",
       "    <tr>\n",
       "      <th>3</th>\n",
       "      <td>4</td>\n",
       "      <td>7</td>\n",
       "    </tr>\n",
       "    <tr>\n",
       "      <th>4</th>\n",
       "      <td>1</td>\n",
       "      <td>1</td>\n",
       "    </tr>\n",
       "  </tbody>\n",
       "</table>\n",
       "</div>"
      ],
      "text/plain": [
       "   X  Z\n",
       "0  1  2\n",
       "1  2  2\n",
       "2  3  5\n",
       "3  4  7\n",
       "4  1  1"
      ]
     },
     "execution_count": 4,
     "metadata": {},
     "output_type": "execute_result"
    }
   ],
   "source": [
    "df"
   ]
  },
  {
   "cell_type": "markdown",
   "metadata": {},
   "source": [
    "# Ejercicio 162\n",
    "\n",
    "Remover las primeras `n` filas (registros) de un objeto `DataFrame` usando `iloc`.\n",
    "\n",
    "## Solución:"
   ]
  },
  {
   "cell_type": "code",
   "execution_count": 5,
   "metadata": {},
   "outputs": [],
   "source": [
    "import pandas as pd\n",
    "import numpy as np"
   ]
  },
  {
   "cell_type": "code",
   "execution_count": 6,
   "metadata": {},
   "outputs": [
    {
     "data": {
      "text/html": [
       "<div>\n",
       "<style scoped>\n",
       "    .dataframe tbody tr th:only-of-type {\n",
       "        vertical-align: middle;\n",
       "    }\n",
       "\n",
       "    .dataframe tbody tr th {\n",
       "        vertical-align: top;\n",
       "    }\n",
       "\n",
       "    .dataframe thead th {\n",
       "        text-align: right;\n",
       "    }\n",
       "</style>\n",
       "<table border=\"1\" class=\"dataframe\">\n",
       "  <thead>\n",
       "    <tr style=\"text-align: right;\">\n",
       "      <th></th>\n",
       "      <th>nombre</th>\n",
       "      <th>puntaje</th>\n",
       "      <th>intentos</th>\n",
       "      <th>califico</th>\n",
       "    </tr>\n",
       "  </thead>\n",
       "  <tbody>\n",
       "    <tr>\n",
       "      <th>a</th>\n",
       "      <td>Oliva</td>\n",
       "      <td>11.5</td>\n",
       "      <td>1</td>\n",
       "      <td>Sí</td>\n",
       "    </tr>\n",
       "    <tr>\n",
       "      <th>b</th>\n",
       "      <td>Daniela</td>\n",
       "      <td>8.0</td>\n",
       "      <td>3</td>\n",
       "      <td>No</td>\n",
       "    </tr>\n",
       "    <tr>\n",
       "      <th>c</th>\n",
       "      <td>Juan</td>\n",
       "      <td>15.5</td>\n",
       "      <td>2</td>\n",
       "      <td>Sí</td>\n",
       "    </tr>\n",
       "    <tr>\n",
       "      <th>d</th>\n",
       "      <td>Germán</td>\n",
       "      <td>NaN</td>\n",
       "      <td>3</td>\n",
       "      <td>No</td>\n",
       "    </tr>\n",
       "    <tr>\n",
       "      <th>e</th>\n",
       "      <td>Edward</td>\n",
       "      <td>8.0</td>\n",
       "      <td>2</td>\n",
       "      <td>No</td>\n",
       "    </tr>\n",
       "    <tr>\n",
       "      <th>f</th>\n",
       "      <td>Alex</td>\n",
       "      <td>19.0</td>\n",
       "      <td>3</td>\n",
       "      <td>Sí</td>\n",
       "    </tr>\n",
       "    <tr>\n",
       "      <th>g</th>\n",
       "      <td>Julio</td>\n",
       "      <td>13.5</td>\n",
       "      <td>1</td>\n",
       "      <td>Sí</td>\n",
       "    </tr>\n",
       "    <tr>\n",
       "      <th>h</th>\n",
       "      <td>Edgar</td>\n",
       "      <td>NaN</td>\n",
       "      <td>1</td>\n",
       "      <td>No</td>\n",
       "    </tr>\n",
       "    <tr>\n",
       "      <th>i</th>\n",
       "      <td>Angie</td>\n",
       "      <td>8.0</td>\n",
       "      <td>2</td>\n",
       "      <td>No</td>\n",
       "    </tr>\n",
       "    <tr>\n",
       "      <th>j</th>\n",
       "      <td>Irlesa</td>\n",
       "      <td>18.0</td>\n",
       "      <td>1</td>\n",
       "      <td>Sí</td>\n",
       "    </tr>\n",
       "  </tbody>\n",
       "</table>\n",
       "</div>"
      ],
      "text/plain": [
       "    nombre  puntaje  intentos califico\n",
       "a    Oliva     11.5         1       Sí\n",
       "b  Daniela      8.0         3       No\n",
       "c     Juan     15.5         2       Sí\n",
       "d   Germán      NaN         3       No\n",
       "e   Edward      8.0         2       No\n",
       "f     Alex     19.0         3       Sí\n",
       "g    Julio     13.5         1       Sí\n",
       "h    Edgar      NaN         1       No\n",
       "i    Angie      8.0         2       No\n",
       "j   Irlesa     18.0         1       Sí"
      ]
     },
     "execution_count": 6,
     "metadata": {},
     "output_type": "execute_result"
    }
   ],
   "source": [
    "nombre = ['Oliva', 'Daniela', 'Juan', 'Germán', 'Edward', 'Alex', 'Julio', \n",
    "          'Edgar', 'Angie', 'Irlesa']\n",
    "puntaje = [11.5, 8, 15.5, np.nan, 8, 19, 13.5, np.nan, 8, 18]\n",
    "intentos = [1, 3, 2, 3, 2, 3, 1, 1, 2, 1]\n",
    "califico = ['Sí', 'No', 'Sí', 'No', 'No', 'Sí', 'Sí', 'No', 'No', 'Sí']\n",
    "\n",
    "indices = ['a', 'b', 'c', 'd', 'e', 'f', 'g', 'h', 'i', 'j']\n",
    "\n",
    "jugadores = {'nombre': nombre, 'puntaje': puntaje, 'intentos': intentos, \n",
    "             'califico': califico}\n",
    "\n",
    "df = pd.DataFrame(data=jugadores, index=indices)\n",
    "\n",
    "df"
   ]
  },
  {
   "cell_type": "code",
   "execution_count": 7,
   "metadata": {},
   "outputs": [
    {
     "data": {
      "text/html": [
       "<div>\n",
       "<style scoped>\n",
       "    .dataframe tbody tr th:only-of-type {\n",
       "        vertical-align: middle;\n",
       "    }\n",
       "\n",
       "    .dataframe tbody tr th {\n",
       "        vertical-align: top;\n",
       "    }\n",
       "\n",
       "    .dataframe thead th {\n",
       "        text-align: right;\n",
       "    }\n",
       "</style>\n",
       "<table border=\"1\" class=\"dataframe\">\n",
       "  <thead>\n",
       "    <tr style=\"text-align: right;\">\n",
       "      <th></th>\n",
       "      <th>nombre</th>\n",
       "      <th>puntaje</th>\n",
       "      <th>intentos</th>\n",
       "      <th>califico</th>\n",
       "    </tr>\n",
       "  </thead>\n",
       "  <tbody>\n",
       "    <tr>\n",
       "      <th>d</th>\n",
       "      <td>Germán</td>\n",
       "      <td>NaN</td>\n",
       "      <td>3</td>\n",
       "      <td>No</td>\n",
       "    </tr>\n",
       "    <tr>\n",
       "      <th>e</th>\n",
       "      <td>Edward</td>\n",
       "      <td>8.0</td>\n",
       "      <td>2</td>\n",
       "      <td>No</td>\n",
       "    </tr>\n",
       "    <tr>\n",
       "      <th>f</th>\n",
       "      <td>Alex</td>\n",
       "      <td>19.0</td>\n",
       "      <td>3</td>\n",
       "      <td>Sí</td>\n",
       "    </tr>\n",
       "    <tr>\n",
       "      <th>g</th>\n",
       "      <td>Julio</td>\n",
       "      <td>13.5</td>\n",
       "      <td>1</td>\n",
       "      <td>Sí</td>\n",
       "    </tr>\n",
       "    <tr>\n",
       "      <th>h</th>\n",
       "      <td>Edgar</td>\n",
       "      <td>NaN</td>\n",
       "      <td>1</td>\n",
       "      <td>No</td>\n",
       "    </tr>\n",
       "    <tr>\n",
       "      <th>i</th>\n",
       "      <td>Angie</td>\n",
       "      <td>8.0</td>\n",
       "      <td>2</td>\n",
       "      <td>No</td>\n",
       "    </tr>\n",
       "    <tr>\n",
       "      <th>j</th>\n",
       "      <td>Irlesa</td>\n",
       "      <td>18.0</td>\n",
       "      <td>1</td>\n",
       "      <td>Sí</td>\n",
       "    </tr>\n",
       "  </tbody>\n",
       "</table>\n",
       "</div>"
      ],
      "text/plain": [
       "   nombre  puntaje  intentos califico\n",
       "d  Germán      NaN         3       No\n",
       "e  Edward      8.0         2       No\n",
       "f    Alex     19.0         3       Sí\n",
       "g   Julio     13.5         1       Sí\n",
       "h   Edgar      NaN         1       No\n",
       "i   Angie      8.0         2       No\n",
       "j  Irlesa     18.0         1       Sí"
      ]
     },
     "execution_count": 7,
     "metadata": {},
     "output_type": "execute_result"
    }
   ],
   "source": [
    "df.iloc[3:]"
   ]
  },
  {
   "cell_type": "code",
   "execution_count": 8,
   "metadata": {},
   "outputs": [
    {
     "data": {
      "text/html": [
       "<div>\n",
       "<style scoped>\n",
       "    .dataframe tbody tr th:only-of-type {\n",
       "        vertical-align: middle;\n",
       "    }\n",
       "\n",
       "    .dataframe tbody tr th {\n",
       "        vertical-align: top;\n",
       "    }\n",
       "\n",
       "    .dataframe thead th {\n",
       "        text-align: right;\n",
       "    }\n",
       "</style>\n",
       "<table border=\"1\" class=\"dataframe\">\n",
       "  <thead>\n",
       "    <tr style=\"text-align: right;\">\n",
       "      <th></th>\n",
       "      <th>nombre</th>\n",
       "      <th>puntaje</th>\n",
       "      <th>intentos</th>\n",
       "      <th>califico</th>\n",
       "    </tr>\n",
       "  </thead>\n",
       "  <tbody>\n",
       "    <tr>\n",
       "      <th>h</th>\n",
       "      <td>Edgar</td>\n",
       "      <td>NaN</td>\n",
       "      <td>1</td>\n",
       "      <td>No</td>\n",
       "    </tr>\n",
       "    <tr>\n",
       "      <th>i</th>\n",
       "      <td>Angie</td>\n",
       "      <td>8.0</td>\n",
       "      <td>2</td>\n",
       "      <td>No</td>\n",
       "    </tr>\n",
       "    <tr>\n",
       "      <th>j</th>\n",
       "      <td>Irlesa</td>\n",
       "      <td>18.0</td>\n",
       "      <td>1</td>\n",
       "      <td>Sí</td>\n",
       "    </tr>\n",
       "  </tbody>\n",
       "</table>\n",
       "</div>"
      ],
      "text/plain": [
       "   nombre  puntaje  intentos califico\n",
       "h   Edgar      NaN         1       No\n",
       "i   Angie      8.0         2       No\n",
       "j  Irlesa     18.0         1       Sí"
      ]
     },
     "execution_count": 8,
     "metadata": {},
     "output_type": "execute_result"
    }
   ],
   "source": [
    "df.iloc[-3:]"
   ]
  },
  {
   "cell_type": "markdown",
   "metadata": {},
   "source": [
    "# Ejercicio 163\n",
    "\n",
    "Remover las últimas `n` filas (registros) de un objeto `DataFrame` usando `iloc`.\n",
    "\n",
    "## Solución:"
   ]
  },
  {
   "cell_type": "code",
   "execution_count": 9,
   "metadata": {},
   "outputs": [],
   "source": [
    "import pandas as pd\n",
    "import numpy as np"
   ]
  },
  {
   "cell_type": "code",
   "execution_count": 10,
   "metadata": {},
   "outputs": [
    {
     "data": {
      "text/html": [
       "<div>\n",
       "<style scoped>\n",
       "    .dataframe tbody tr th:only-of-type {\n",
       "        vertical-align: middle;\n",
       "    }\n",
       "\n",
       "    .dataframe tbody tr th {\n",
       "        vertical-align: top;\n",
       "    }\n",
       "\n",
       "    .dataframe thead th {\n",
       "        text-align: right;\n",
       "    }\n",
       "</style>\n",
       "<table border=\"1\" class=\"dataframe\">\n",
       "  <thead>\n",
       "    <tr style=\"text-align: right;\">\n",
       "      <th></th>\n",
       "      <th>nombre</th>\n",
       "      <th>puntaje</th>\n",
       "      <th>intentos</th>\n",
       "      <th>califico</th>\n",
       "    </tr>\n",
       "  </thead>\n",
       "  <tbody>\n",
       "    <tr>\n",
       "      <th>a</th>\n",
       "      <td>Oliva</td>\n",
       "      <td>11.5</td>\n",
       "      <td>1</td>\n",
       "      <td>Sí</td>\n",
       "    </tr>\n",
       "    <tr>\n",
       "      <th>b</th>\n",
       "      <td>Daniela</td>\n",
       "      <td>8.0</td>\n",
       "      <td>3</td>\n",
       "      <td>No</td>\n",
       "    </tr>\n",
       "    <tr>\n",
       "      <th>c</th>\n",
       "      <td>Juan</td>\n",
       "      <td>15.5</td>\n",
       "      <td>2</td>\n",
       "      <td>Sí</td>\n",
       "    </tr>\n",
       "    <tr>\n",
       "      <th>d</th>\n",
       "      <td>Germán</td>\n",
       "      <td>NaN</td>\n",
       "      <td>3</td>\n",
       "      <td>No</td>\n",
       "    </tr>\n",
       "    <tr>\n",
       "      <th>e</th>\n",
       "      <td>Edward</td>\n",
       "      <td>8.0</td>\n",
       "      <td>2</td>\n",
       "      <td>No</td>\n",
       "    </tr>\n",
       "    <tr>\n",
       "      <th>f</th>\n",
       "      <td>Alex</td>\n",
       "      <td>19.0</td>\n",
       "      <td>3</td>\n",
       "      <td>Sí</td>\n",
       "    </tr>\n",
       "    <tr>\n",
       "      <th>g</th>\n",
       "      <td>Julio</td>\n",
       "      <td>13.5</td>\n",
       "      <td>1</td>\n",
       "      <td>Sí</td>\n",
       "    </tr>\n",
       "    <tr>\n",
       "      <th>h</th>\n",
       "      <td>Edgar</td>\n",
       "      <td>NaN</td>\n",
       "      <td>1</td>\n",
       "      <td>No</td>\n",
       "    </tr>\n",
       "    <tr>\n",
       "      <th>i</th>\n",
       "      <td>Angie</td>\n",
       "      <td>8.0</td>\n",
       "      <td>2</td>\n",
       "      <td>No</td>\n",
       "    </tr>\n",
       "    <tr>\n",
       "      <th>j</th>\n",
       "      <td>Irlesa</td>\n",
       "      <td>18.0</td>\n",
       "      <td>1</td>\n",
       "      <td>Sí</td>\n",
       "    </tr>\n",
       "  </tbody>\n",
       "</table>\n",
       "</div>"
      ],
      "text/plain": [
       "    nombre  puntaje  intentos califico\n",
       "a    Oliva     11.5         1       Sí\n",
       "b  Daniela      8.0         3       No\n",
       "c     Juan     15.5         2       Sí\n",
       "d   Germán      NaN         3       No\n",
       "e   Edward      8.0         2       No\n",
       "f     Alex     19.0         3       Sí\n",
       "g    Julio     13.5         1       Sí\n",
       "h    Edgar      NaN         1       No\n",
       "i    Angie      8.0         2       No\n",
       "j   Irlesa     18.0         1       Sí"
      ]
     },
     "execution_count": 10,
     "metadata": {},
     "output_type": "execute_result"
    }
   ],
   "source": [
    "nombre = ['Oliva', 'Daniela', 'Juan', 'Germán', 'Edward', 'Alex', 'Julio', \n",
    "          'Edgar', 'Angie', 'Irlesa']\n",
    "puntaje = [11.5, 8, 15.5, np.nan, 8, 19, 13.5, np.nan, 8, 18]\n",
    "intentos = [1, 3, 2, 3, 2, 3, 1, 1, 2, 1]\n",
    "califico = ['Sí', 'No', 'Sí', 'No', 'No', 'Sí', 'Sí', 'No', 'No', 'Sí']\n",
    "\n",
    "indices = ['a', 'b', 'c', 'd', 'e', 'f', 'g', 'h', 'i', 'j']\n",
    "\n",
    "jugadores = {'nombre': nombre, 'puntaje': puntaje, 'intentos': intentos, \n",
    "             'califico': califico}\n",
    "\n",
    "df = pd.DataFrame(data=jugadores, index=indices)\n",
    "\n",
    "df"
   ]
  },
  {
   "cell_type": "code",
   "execution_count": 11,
   "metadata": {},
   "outputs": [
    {
     "data": {
      "text/html": [
       "<div>\n",
       "<style scoped>\n",
       "    .dataframe tbody tr th:only-of-type {\n",
       "        vertical-align: middle;\n",
       "    }\n",
       "\n",
       "    .dataframe tbody tr th {\n",
       "        vertical-align: top;\n",
       "    }\n",
       "\n",
       "    .dataframe thead th {\n",
       "        text-align: right;\n",
       "    }\n",
       "</style>\n",
       "<table border=\"1\" class=\"dataframe\">\n",
       "  <thead>\n",
       "    <tr style=\"text-align: right;\">\n",
       "      <th></th>\n",
       "      <th>nombre</th>\n",
       "      <th>puntaje</th>\n",
       "      <th>intentos</th>\n",
       "      <th>califico</th>\n",
       "    </tr>\n",
       "  </thead>\n",
       "  <tbody>\n",
       "    <tr>\n",
       "      <th>a</th>\n",
       "      <td>Oliva</td>\n",
       "      <td>11.5</td>\n",
       "      <td>1</td>\n",
       "      <td>Sí</td>\n",
       "    </tr>\n",
       "    <tr>\n",
       "      <th>b</th>\n",
       "      <td>Daniela</td>\n",
       "      <td>8.0</td>\n",
       "      <td>3</td>\n",
       "      <td>No</td>\n",
       "    </tr>\n",
       "    <tr>\n",
       "      <th>c</th>\n",
       "      <td>Juan</td>\n",
       "      <td>15.5</td>\n",
       "      <td>2</td>\n",
       "      <td>Sí</td>\n",
       "    </tr>\n",
       "    <tr>\n",
       "      <th>d</th>\n",
       "      <td>Germán</td>\n",
       "      <td>NaN</td>\n",
       "      <td>3</td>\n",
       "      <td>No</td>\n",
       "    </tr>\n",
       "    <tr>\n",
       "      <th>e</th>\n",
       "      <td>Edward</td>\n",
       "      <td>8.0</td>\n",
       "      <td>2</td>\n",
       "      <td>No</td>\n",
       "    </tr>\n",
       "  </tbody>\n",
       "</table>\n",
       "</div>"
      ],
      "text/plain": [
       "    nombre  puntaje  intentos califico\n",
       "a    Oliva     11.5         1       Sí\n",
       "b  Daniela      8.0         3       No\n",
       "c     Juan     15.5         2       Sí\n",
       "d   Germán      NaN         3       No\n",
       "e   Edward      8.0         2       No"
      ]
     },
     "execution_count": 11,
     "metadata": {},
     "output_type": "execute_result"
    }
   ],
   "source": [
    "n = 5\n",
    "\n",
    "df.iloc[0:-n]"
   ]
  },
  {
   "cell_type": "markdown",
   "metadata": {},
   "source": [
    "# Ejercicio 164\n",
    "\n",
    "Usar la función `plot` para graficar el contenido de un `DataFrame`.\n",
    "\n",
    "## Solución:"
   ]
  },
  {
   "cell_type": "code",
   "execution_count": 12,
   "metadata": {},
   "outputs": [],
   "source": [
    "import pandas as pd\n",
    "import numpy as np"
   ]
  },
  {
   "cell_type": "code",
   "execution_count": 13,
   "metadata": {},
   "outputs": [
    {
     "data": {
      "text/html": [
       "<div>\n",
       "<style scoped>\n",
       "    .dataframe tbody tr th:only-of-type {\n",
       "        vertical-align: middle;\n",
       "    }\n",
       "\n",
       "    .dataframe tbody tr th {\n",
       "        vertical-align: top;\n",
       "    }\n",
       "\n",
       "    .dataframe thead th {\n",
       "        text-align: right;\n",
       "    }\n",
       "</style>\n",
       "<table border=\"1\" class=\"dataframe\">\n",
       "  <thead>\n",
       "    <tr style=\"text-align: right;\">\n",
       "      <th></th>\n",
       "      <th>nombre</th>\n",
       "      <th>puntaje</th>\n",
       "      <th>intentos</th>\n",
       "      <th>califico</th>\n",
       "    </tr>\n",
       "  </thead>\n",
       "  <tbody>\n",
       "    <tr>\n",
       "      <th>a</th>\n",
       "      <td>Oliva</td>\n",
       "      <td>11.5</td>\n",
       "      <td>1</td>\n",
       "      <td>Sí</td>\n",
       "    </tr>\n",
       "    <tr>\n",
       "      <th>b</th>\n",
       "      <td>Daniela</td>\n",
       "      <td>8.0</td>\n",
       "      <td>3</td>\n",
       "      <td>No</td>\n",
       "    </tr>\n",
       "    <tr>\n",
       "      <th>c</th>\n",
       "      <td>Juan</td>\n",
       "      <td>15.5</td>\n",
       "      <td>2</td>\n",
       "      <td>Sí</td>\n",
       "    </tr>\n",
       "    <tr>\n",
       "      <th>d</th>\n",
       "      <td>Germán</td>\n",
       "      <td>NaN</td>\n",
       "      <td>3</td>\n",
       "      <td>No</td>\n",
       "    </tr>\n",
       "    <tr>\n",
       "      <th>e</th>\n",
       "      <td>Edward</td>\n",
       "      <td>8.0</td>\n",
       "      <td>2</td>\n",
       "      <td>No</td>\n",
       "    </tr>\n",
       "    <tr>\n",
       "      <th>f</th>\n",
       "      <td>Alex</td>\n",
       "      <td>19.0</td>\n",
       "      <td>3</td>\n",
       "      <td>Sí</td>\n",
       "    </tr>\n",
       "    <tr>\n",
       "      <th>g</th>\n",
       "      <td>Julio</td>\n",
       "      <td>13.5</td>\n",
       "      <td>1</td>\n",
       "      <td>Sí</td>\n",
       "    </tr>\n",
       "    <tr>\n",
       "      <th>h</th>\n",
       "      <td>Edgar</td>\n",
       "      <td>NaN</td>\n",
       "      <td>1</td>\n",
       "      <td>No</td>\n",
       "    </tr>\n",
       "    <tr>\n",
       "      <th>i</th>\n",
       "      <td>Angie</td>\n",
       "      <td>8.0</td>\n",
       "      <td>2</td>\n",
       "      <td>No</td>\n",
       "    </tr>\n",
       "    <tr>\n",
       "      <th>j</th>\n",
       "      <td>Irlesa</td>\n",
       "      <td>18.0</td>\n",
       "      <td>1</td>\n",
       "      <td>Sí</td>\n",
       "    </tr>\n",
       "  </tbody>\n",
       "</table>\n",
       "</div>"
      ],
      "text/plain": [
       "    nombre  puntaje  intentos califico\n",
       "a    Oliva     11.5         1       Sí\n",
       "b  Daniela      8.0         3       No\n",
       "c     Juan     15.5         2       Sí\n",
       "d   Germán      NaN         3       No\n",
       "e   Edward      8.0         2       No\n",
       "f     Alex     19.0         3       Sí\n",
       "g    Julio     13.5         1       Sí\n",
       "h    Edgar      NaN         1       No\n",
       "i    Angie      8.0         2       No\n",
       "j   Irlesa     18.0         1       Sí"
      ]
     },
     "execution_count": 13,
     "metadata": {},
     "output_type": "execute_result"
    }
   ],
   "source": [
    "nombre = ['Oliva', 'Daniela', 'Juan', 'Germán', 'Edward', 'Alex', 'Julio', \n",
    "          'Edgar', 'Angie', 'Irlesa']\n",
    "puntaje = [11.5, 8, 15.5, np.nan, 8, 19, 13.5, np.nan, 8, 18]\n",
    "intentos = [1, 3, 2, 3, 2, 3, 1, 1, 2, 1]\n",
    "califico = ['Sí', 'No', 'Sí', 'No', 'No', 'Sí', 'Sí', 'No', 'No', 'Sí']\n",
    "\n",
    "indices = ['a', 'b', 'c', 'd', 'e', 'f', 'g', 'h', 'i', 'j']\n",
    "\n",
    "jugadores = {'nombre': nombre, 'puntaje': puntaje, 'intentos': intentos, \n",
    "             'califico': califico}\n",
    "\n",
    "df = pd.DataFrame(data=jugadores, index=indices)\n",
    "\n",
    "df"
   ]
  },
  {
   "cell_type": "code",
   "execution_count": 14,
   "metadata": {},
   "outputs": [
    {
     "data": {
      "text/plain": [
       "<matplotlib.axes._subplots.AxesSubplot at 0x26da087e6d8>"
      ]
     },
     "execution_count": 14,
     "metadata": {},
     "output_type": "execute_result"
    },
    {
     "data": {
      "image/png": "[encoded data removed]",
      "text/plain": [
       "<Figure size 432x288 with 1 Axes>"
      ]
     },
     "metadata": {
      "needs_background": "light"
     },
     "output_type": "display_data"
    }
   ],
   "source": [
    "%matplotlib inline\n",
    "\n",
    "df.dropna().plot(kind='line', y='puntaje', color='red')"
   ]
  },
  {
   "cell_type": "markdown",
   "metadata": {},
   "source": [
    "# Ejercicio 165\n",
    "\n",
    "Crear un gráfico de barras a partir de un objeto `DataFrame`.\n",
    "\n",
    "## Solución:"
   ]
  },
  {
   "cell_type": "code",
   "execution_count": 15,
   "metadata": {},
   "outputs": [],
   "source": [
    "import pandas as pd\n",
    "import numpy as np"
   ]
  },
  {
   "cell_type": "code",
   "execution_count": 16,
   "metadata": {},
   "outputs": [
    {
     "data": {
      "text/html": [
       "<div>\n",
       "<style scoped>\n",
       "    .dataframe tbody tr th:only-of-type {\n",
       "        vertical-align: middle;\n",
       "    }\n",
       "\n",
       "    .dataframe tbody tr th {\n",
       "        vertical-align: top;\n",
       "    }\n",
       "\n",
       "    .dataframe thead th {\n",
       "        text-align: right;\n",
       "    }\n",
       "</style>\n",
       "<table border=\"1\" class=\"dataframe\">\n",
       "  <thead>\n",
       "    <tr style=\"text-align: right;\">\n",
       "      <th></th>\n",
       "      <th>nombre</th>\n",
       "      <th>puntaje</th>\n",
       "      <th>intentos</th>\n",
       "      <th>califico</th>\n",
       "    </tr>\n",
       "  </thead>\n",
       "  <tbody>\n",
       "    <tr>\n",
       "      <th>a</th>\n",
       "      <td>Oliva</td>\n",
       "      <td>11.5</td>\n",
       "      <td>1</td>\n",
       "      <td>Sí</td>\n",
       "    </tr>\n",
       "    <tr>\n",
       "      <th>b</th>\n",
       "      <td>Daniela</td>\n",
       "      <td>8.0</td>\n",
       "      <td>3</td>\n",
       "      <td>No</td>\n",
       "    </tr>\n",
       "    <tr>\n",
       "      <th>c</th>\n",
       "      <td>Juan</td>\n",
       "      <td>15.5</td>\n",
       "      <td>2</td>\n",
       "      <td>Sí</td>\n",
       "    </tr>\n",
       "    <tr>\n",
       "      <th>d</th>\n",
       "      <td>Germán</td>\n",
       "      <td>NaN</td>\n",
       "      <td>3</td>\n",
       "      <td>No</td>\n",
       "    </tr>\n",
       "    <tr>\n",
       "      <th>e</th>\n",
       "      <td>Edward</td>\n",
       "      <td>8.0</td>\n",
       "      <td>2</td>\n",
       "      <td>No</td>\n",
       "    </tr>\n",
       "    <tr>\n",
       "      <th>f</th>\n",
       "      <td>Alex</td>\n",
       "      <td>19.0</td>\n",
       "      <td>3</td>\n",
       "      <td>Sí</td>\n",
       "    </tr>\n",
       "    <tr>\n",
       "      <th>g</th>\n",
       "      <td>Julio</td>\n",
       "      <td>13.5</td>\n",
       "      <td>1</td>\n",
       "      <td>Sí</td>\n",
       "    </tr>\n",
       "    <tr>\n",
       "      <th>h</th>\n",
       "      <td>Edgar</td>\n",
       "      <td>NaN</td>\n",
       "      <td>1</td>\n",
       "      <td>No</td>\n",
       "    </tr>\n",
       "    <tr>\n",
       "      <th>i</th>\n",
       "      <td>Angie</td>\n",
       "      <td>8.0</td>\n",
       "      <td>2</td>\n",
       "      <td>No</td>\n",
       "    </tr>\n",
       "    <tr>\n",
       "      <th>j</th>\n",
       "      <td>Irlesa</td>\n",
       "      <td>18.0</td>\n",
       "      <td>1</td>\n",
       "      <td>Sí</td>\n",
       "    </tr>\n",
       "  </tbody>\n",
       "</table>\n",
       "</div>"
      ],
      "text/plain": [
       "    nombre  puntaje  intentos califico\n",
       "a    Oliva     11.5         1       Sí\n",
       "b  Daniela      8.0         3       No\n",
       "c     Juan     15.5         2       Sí\n",
       "d   Germán      NaN         3       No\n",
       "e   Edward      8.0         2       No\n",
       "f     Alex     19.0         3       Sí\n",
       "g    Julio     13.5         1       Sí\n",
       "h    Edgar      NaN         1       No\n",
       "i    Angie      8.0         2       No\n",
       "j   Irlesa     18.0         1       Sí"
      ]
     },
     "execution_count": 16,
     "metadata": {},
     "output_type": "execute_result"
    }
   ],
   "source": [
    "nombre = ['Oliva', 'Daniela', 'Juan', 'Germán', 'Edward', 'Alex', 'Julio', \n",
    "          'Edgar', 'Angie', 'Irlesa']\n",
    "puntaje = [11.5, 8, 15.5, np.nan, 8, 19, 13.5, np.nan, 8, 18]\n",
    "intentos = [1, 3, 2, 3, 2, 3, 1, 1, 2, 1]\n",
    "califico = ['Sí', 'No', 'Sí', 'No', 'No', 'Sí', 'Sí', 'No', 'No', 'Sí']\n",
    "\n",
    "indices = ['a', 'b', 'c', 'd', 'e', 'f', 'g', 'h', 'i', 'j']\n",
    "\n",
    "jugadores = {'nombre': nombre, 'puntaje': puntaje, 'intentos': intentos, \n",
    "             'califico': califico}\n",
    "\n",
    "df = pd.DataFrame(data=jugadores, index=indices)\n",
    "\n",
    "df"
   ]
  },
  {
   "cell_type": "code",
   "execution_count": 17,
   "metadata": {},
   "outputs": [
    {
     "data": {
      "text/plain": [
       "<matplotlib.axes._subplots.AxesSubplot at 0x26da0b97978>"
      ]
     },
     "execution_count": 17,
     "metadata": {},
     "output_type": "execute_result"
    },
    {
     "data": {
      "image/png": "[encoded data removed]",
      "text/plain": [
       "<Figure size 432x288 with 1 Axes>"
      ]
     },
     "metadata": {
      "needs_background": "light"
     },
     "output_type": "display_data"
    }
   ],
   "source": [
    "%matplotlib inline\n",
    "\n",
    "df.groupby('califico')['califico'].count().plot(kind='bar')"
   ]
  },
  {
   "cell_type": "markdown",
   "metadata": {},
   "source": [
    "# Ejercicio 166\n",
    "\n",
    "Graficar múltiples curvas con los datos de un `DataFrame`.\n",
    "\n",
    "## Solución:"
   ]
  },
  {
   "cell_type": "code",
   "execution_count": 18,
   "metadata": {},
   "outputs": [],
   "source": [
    "import pandas as pd"
   ]
  },
  {
   "cell_type": "code",
   "execution_count": 19,
   "metadata": {},
   "outputs": [
    {
     "data": {
      "text/html": [
       "<div>\n",
       "<style scoped>\n",
       "    .dataframe tbody tr th:only-of-type {\n",
       "        vertical-align: middle;\n",
       "    }\n",
       "\n",
       "    .dataframe tbody tr th {\n",
       "        vertical-align: top;\n",
       "    }\n",
       "\n",
       "    .dataframe thead th {\n",
       "        text-align: right;\n",
       "    }\n",
       "</style>\n",
       "<table border=\"1\" class=\"dataframe\">\n",
       "  <thead>\n",
       "    <tr style=\"text-align: right;\">\n",
       "      <th></th>\n",
       "      <th>nombre</th>\n",
       "      <th>gatos</th>\n",
       "      <th>perros</th>\n",
       "    </tr>\n",
       "  </thead>\n",
       "  <tbody>\n",
       "    <tr>\n",
       "      <th>0</th>\n",
       "      <td>Yuli</td>\n",
       "      <td>2</td>\n",
       "      <td>2</td>\n",
       "    </tr>\n",
       "    <tr>\n",
       "      <th>1</th>\n",
       "      <td>Juliana</td>\n",
       "      <td>3</td>\n",
       "      <td>1</td>\n",
       "    </tr>\n",
       "    <tr>\n",
       "      <th>2</th>\n",
       "      <td>Sofía</td>\n",
       "      <td>2</td>\n",
       "      <td>3</td>\n",
       "    </tr>\n",
       "    <tr>\n",
       "      <th>3</th>\n",
       "      <td>Rosa</td>\n",
       "      <td>1</td>\n",
       "      <td>2</td>\n",
       "    </tr>\n",
       "    <tr>\n",
       "      <th>4</th>\n",
       "      <td>Adriana</td>\n",
       "      <td>1</td>\n",
       "      <td>1</td>\n",
       "    </tr>\n",
       "  </tbody>\n",
       "</table>\n",
       "</div>"
      ],
      "text/plain": [
       "    nombre  gatos  perros\n",
       "0     Yuli      2       2\n",
       "1  Juliana      3       1\n",
       "2    Sofía      2       3\n",
       "3     Rosa      1       2\n",
       "4  Adriana      1       1"
      ]
     },
     "execution_count": 19,
     "metadata": {},
     "output_type": "execute_result"
    }
   ],
   "source": [
    "datos = {'nombre': ['Yuli', 'Juliana', 'Sofía', 'Rosa', 'Adriana'],\n",
    "         'gatos': [2, 3, 2, 1, 1],\n",
    "         'perros': [2, 1, 3, 2, 1]}\n",
    "\n",
    "df = pd.DataFrame(data=datos)\n",
    "\n",
    "df"
   ]
  },
  {
   "cell_type": "code",
   "execution_count": 20,
   "metadata": {},
   "outputs": [
    {
     "data": {
      "text/plain": [
       "<matplotlib.axes._subplots.AxesSubplot at 0x26da0c2ae10>"
      ]
     },
     "execution_count": 20,
     "metadata": {},
     "output_type": "execute_result"
    },
    {
     "data": {
      "image/png": "[encoded data removed]",
      "text/plain": [
       "<Figure size 432x288 with 1 Axes>"
      ]
     },
     "metadata": {
      "needs_background": "light"
     },
     "output_type": "display_data"
    }
   ],
   "source": [
    "%matplotlib inline\n",
    "\n",
    "df.plot(x='nombre')"
   ]
  },
  {
   "cell_type": "markdown",
   "metadata": {},
   "source": [
    "# Ejercicio 167\n",
    "\n",
    "Guardar un `DataFrame` en formato de serialización pickle de Python.\n",
    "\n",
    "## Solución:"
   ]
  },
  {
   "cell_type": "code",
   "execution_count": 21,
   "metadata": {},
   "outputs": [],
   "source": [
    "import pandas as pd"
   ]
  },
  {
   "cell_type": "code",
   "execution_count": 22,
   "metadata": {},
   "outputs": [
    {
     "data": {
      "text/html": [
       "<div>\n",
       "<style scoped>\n",
       "    .dataframe tbody tr th:only-of-type {\n",
       "        vertical-align: middle;\n",
       "    }\n",
       "\n",
       "    .dataframe tbody tr th {\n",
       "        vertical-align: top;\n",
       "    }\n",
       "\n",
       "    .dataframe thead th {\n",
       "        text-align: right;\n",
       "    }\n",
       "</style>\n",
       "<table border=\"1\" class=\"dataframe\">\n",
       "  <thead>\n",
       "    <tr style=\"text-align: right;\">\n",
       "      <th></th>\n",
       "      <th>X</th>\n",
       "      <th>Y</th>\n",
       "      <th>Z</th>\n",
       "    </tr>\n",
       "  </thead>\n",
       "  <tbody>\n",
       "    <tr>\n",
       "      <th>0</th>\n",
       "      <td>1</td>\n",
       "      <td>5</td>\n",
       "      <td>2</td>\n",
       "    </tr>\n",
       "    <tr>\n",
       "      <th>1</th>\n",
       "      <td>2</td>\n",
       "      <td>2</td>\n",
       "      <td>2</td>\n",
       "    </tr>\n",
       "    <tr>\n",
       "      <th>2</th>\n",
       "      <td>3</td>\n",
       "      <td>3</td>\n",
       "      <td>5</td>\n",
       "    </tr>\n",
       "    <tr>\n",
       "      <th>3</th>\n",
       "      <td>4</td>\n",
       "      <td>2</td>\n",
       "      <td>7</td>\n",
       "    </tr>\n",
       "    <tr>\n",
       "      <th>4</th>\n",
       "      <td>1</td>\n",
       "      <td>0</td>\n",
       "      <td>1</td>\n",
       "    </tr>\n",
       "  </tbody>\n",
       "</table>\n",
       "</div>"
      ],
      "text/plain": [
       "   X  Y  Z\n",
       "0  1  5  2\n",
       "1  2  2  2\n",
       "2  3  3  5\n",
       "3  4  2  7\n",
       "4  1  0  1"
      ]
     },
     "execution_count": 22,
     "metadata": {},
     "output_type": "execute_result"
    }
   ],
   "source": [
    "datos = {'X': [1, 2, 3, 4, 1], 'Y': [5, 2, 3, 2, 0], 'Z': [2, 2, 5, 7, 1]}\n",
    "\n",
    "df = pd.DataFrame(data=datos)\n",
    "\n",
    "df"
   ]
  },
  {
   "cell_type": "code",
   "execution_count": 23,
   "metadata": {},
   "outputs": [],
   "source": [
    "df.to_pickle('datos.pkl')"
   ]
  },
  {
   "cell_type": "markdown",
   "metadata": {},
   "source": [
    "# Ejercicio 168\n",
    "\n",
    "Leer los datos de un `DataFrame` desde un archivo serializado en pickle de Python.\n",
    "\n",
    "## Solución:"
   ]
  },
  {
   "cell_type": "code",
   "execution_count": 24,
   "metadata": {},
   "outputs": [],
   "source": [
    "import pandas as pd"
   ]
  },
  {
   "cell_type": "code",
   "execution_count": 25,
   "metadata": {},
   "outputs": [],
   "source": [
    "df = pd.read_pickle('datos.pkl')"
   ]
  },
  {
   "cell_type": "code",
   "execution_count": 26,
   "metadata": {},
   "outputs": [
    {
     "data": {
      "text/html": [
       "<div>\n",
       "<style scoped>\n",
       "    .dataframe tbody tr th:only-of-type {\n",
       "        vertical-align: middle;\n",
       "    }\n",
       "\n",
       "    .dataframe tbody tr th {\n",
       "        vertical-align: top;\n",
       "    }\n",
       "\n",
       "    .dataframe thead th {\n",
       "        text-align: right;\n",
       "    }\n",
       "</style>\n",
       "<table border=\"1\" class=\"dataframe\">\n",
       "  <thead>\n",
       "    <tr style=\"text-align: right;\">\n",
       "      <th></th>\n",
       "      <th>X</th>\n",
       "      <th>Y</th>\n",
       "      <th>Z</th>\n",
       "    </tr>\n",
       "  </thead>\n",
       "  <tbody>\n",
       "    <tr>\n",
       "      <th>0</th>\n",
       "      <td>1</td>\n",
       "      <td>5</td>\n",
       "      <td>2</td>\n",
       "    </tr>\n",
       "    <tr>\n",
       "      <th>1</th>\n",
       "      <td>2</td>\n",
       "      <td>2</td>\n",
       "      <td>2</td>\n",
       "    </tr>\n",
       "    <tr>\n",
       "      <th>2</th>\n",
       "      <td>3</td>\n",
       "      <td>3</td>\n",
       "      <td>5</td>\n",
       "    </tr>\n",
       "    <tr>\n",
       "      <th>3</th>\n",
       "      <td>4</td>\n",
       "      <td>2</td>\n",
       "      <td>7</td>\n",
       "    </tr>\n",
       "    <tr>\n",
       "      <th>4</th>\n",
       "      <td>1</td>\n",
       "      <td>0</td>\n",
       "      <td>1</td>\n",
       "    </tr>\n",
       "  </tbody>\n",
       "</table>\n",
       "</div>"
      ],
      "text/plain": [
       "   X  Y  Z\n",
       "0  1  5  2\n",
       "1  2  2  2\n",
       "2  3  3  5\n",
       "3  4  2  7\n",
       "4  1  0  1"
      ]
     },
     "execution_count": 26,
     "metadata": {},
     "output_type": "execute_result"
    }
   ],
   "source": [
    "df"
   ]
  },
  {
   "cell_type": "markdown",
   "metadata": {},
   "source": [
    "# Ejercicio 169\n",
    "\n",
    "Generar la representación en cadena de caracteres de un `DataFrame` con `to_string`.\n",
    "\n",
    "## Solución:"
   ]
  },
  {
   "cell_type": "code",
   "execution_count": 27,
   "metadata": {},
   "outputs": [],
   "source": [
    "import pandas as pd"
   ]
  },
  {
   "cell_type": "code",
   "execution_count": 28,
   "metadata": {},
   "outputs": [
    {
     "data": {
      "text/html": [
       "<div>\n",
       "<style scoped>\n",
       "    .dataframe tbody tr th:only-of-type {\n",
       "        vertical-align: middle;\n",
       "    }\n",
       "\n",
       "    .dataframe tbody tr th {\n",
       "        vertical-align: top;\n",
       "    }\n",
       "\n",
       "    .dataframe thead th {\n",
       "        text-align: right;\n",
       "    }\n",
       "</style>\n",
       "<table border=\"1\" class=\"dataframe\">\n",
       "  <thead>\n",
       "    <tr style=\"text-align: right;\">\n",
       "      <th></th>\n",
       "      <th>X</th>\n",
       "      <th>Y</th>\n",
       "      <th>Z</th>\n",
       "    </tr>\n",
       "  </thead>\n",
       "  <tbody>\n",
       "    <tr>\n",
       "      <th>0</th>\n",
       "      <td>1</td>\n",
       "      <td>5</td>\n",
       "      <td>2</td>\n",
       "    </tr>\n",
       "    <tr>\n",
       "      <th>1</th>\n",
       "      <td>2</td>\n",
       "      <td>2</td>\n",
       "      <td>2</td>\n",
       "    </tr>\n",
       "    <tr>\n",
       "      <th>2</th>\n",
       "      <td>3</td>\n",
       "      <td>3</td>\n",
       "      <td>5</td>\n",
       "    </tr>\n",
       "    <tr>\n",
       "      <th>3</th>\n",
       "      <td>4</td>\n",
       "      <td>2</td>\n",
       "      <td>7</td>\n",
       "    </tr>\n",
       "    <tr>\n",
       "      <th>4</th>\n",
       "      <td>1</td>\n",
       "      <td>0</td>\n",
       "      <td>1</td>\n",
       "    </tr>\n",
       "  </tbody>\n",
       "</table>\n",
       "</div>"
      ],
      "text/plain": [
       "   X  Y  Z\n",
       "0  1  5  2\n",
       "1  2  2  2\n",
       "2  3  3  5\n",
       "3  4  2  7\n",
       "4  1  0  1"
      ]
     },
     "execution_count": 28,
     "metadata": {},
     "output_type": "execute_result"
    }
   ],
   "source": [
    "datos = {'X': [1, 2, 3, 4, 1], 'Y': [5, 2, 3, 2, 0], 'Z': [2, 2, 5, 7, 1]}\n",
    "\n",
    "df = pd.DataFrame(data=datos)\n",
    "\n",
    "df"
   ]
  },
  {
   "cell_type": "code",
   "execution_count": 29,
   "metadata": {},
   "outputs": [
    {
     "data": {
      "text/plain": [
       "'   X  Y  Z\\n0  1  5  2\\n1  2  2  2\\n2  3  3  5\\n3  4  2  7\\n4  1  0  1'"
      ]
     },
     "execution_count": 29,
     "metadata": {},
     "output_type": "execute_result"
    }
   ],
   "source": [
    "df.to_string()"
   ]
  },
  {
   "cell_type": "code",
   "execution_count": 30,
   "metadata": {},
   "outputs": [
    {
     "name": "stdout",
     "output_type": "stream",
     "text": [
      "   X  Y  Z\n",
      "0  1  5  2\n",
      "1  2  2  2\n",
      "2  3  3  5\n",
      "3  4  2  7\n",
      "4  1  0  1\n"
     ]
    }
   ],
   "source": [
    "print(df.to_string())"
   ]
  },
  {
   "cell_type": "markdown",
   "metadata": {},
   "source": [
    "# Ejercicio 170\n",
    "\n",
    "Obtener la representación de diccionario de un objeto `DataFrame`.\n",
    "\n",
    "## Solución:"
   ]
  },
  {
   "cell_type": "code",
   "execution_count": 31,
   "metadata": {},
   "outputs": [],
   "source": [
    "import pandas as pd"
   ]
  },
  {
   "cell_type": "code",
   "execution_count": 32,
   "metadata": {},
   "outputs": [
    {
     "data": {
      "text/html": [
       "<div>\n",
       "<style scoped>\n",
       "    .dataframe tbody tr th:only-of-type {\n",
       "        vertical-align: middle;\n",
       "    }\n",
       "\n",
       "    .dataframe tbody tr th {\n",
       "        vertical-align: top;\n",
       "    }\n",
       "\n",
       "    .dataframe thead th {\n",
       "        text-align: right;\n",
       "    }\n",
       "</style>\n",
       "<table border=\"1\" class=\"dataframe\">\n",
       "  <thead>\n",
       "    <tr style=\"text-align: right;\">\n",
       "      <th></th>\n",
       "      <th>X</th>\n",
       "      <th>Y</th>\n",
       "      <th>Z</th>\n",
       "    </tr>\n",
       "  </thead>\n",
       "  <tbody>\n",
       "    <tr>\n",
       "      <th>0</th>\n",
       "      <td>1</td>\n",
       "      <td>5</td>\n",
       "      <td>2</td>\n",
       "    </tr>\n",
       "    <tr>\n",
       "      <th>1</th>\n",
       "      <td>2</td>\n",
       "      <td>2</td>\n",
       "      <td>2</td>\n",
       "    </tr>\n",
       "    <tr>\n",
       "      <th>2</th>\n",
       "      <td>3</td>\n",
       "      <td>3</td>\n",
       "      <td>5</td>\n",
       "    </tr>\n",
       "    <tr>\n",
       "      <th>3</th>\n",
       "      <td>4</td>\n",
       "      <td>2</td>\n",
       "      <td>7</td>\n",
       "    </tr>\n",
       "    <tr>\n",
       "      <th>4</th>\n",
       "      <td>1</td>\n",
       "      <td>0</td>\n",
       "      <td>1</td>\n",
       "    </tr>\n",
       "  </tbody>\n",
       "</table>\n",
       "</div>"
      ],
      "text/plain": [
       "   X  Y  Z\n",
       "0  1  5  2\n",
       "1  2  2  2\n",
       "2  3  3  5\n",
       "3  4  2  7\n",
       "4  1  0  1"
      ]
     },
     "execution_count": 32,
     "metadata": {},
     "output_type": "execute_result"
    }
   ],
   "source": [
    "datos = {'X': [1, 2, 3, 4, 1], 'Y': [5, 2, 3, 2, 0], 'Z': [2, 2, 5, 7, 1]}\n",
    "\n",
    "df = pd.DataFrame(data=datos)\n",
    "\n",
    "df"
   ]
  },
  {
   "cell_type": "code",
   "execution_count": 33,
   "metadata": {},
   "outputs": [
    {
     "data": {
      "text/plain": [
       "{'X': {0: 1, 1: 2, 2: 3, 3: 4, 4: 1},\n",
       " 'Y': {0: 5, 1: 2, 2: 3, 3: 2, 4: 0},\n",
       " 'Z': {0: 2, 1: 2, 2: 5, 3: 7, 4: 1}}"
      ]
     },
     "execution_count": 33,
     "metadata": {},
     "output_type": "execute_result"
    }
   ],
   "source": [
    "df.to_dict()"
   ]
  },
  {
   "cell_type": "markdown",
   "metadata": {},
   "source": [
    "# Ejercicio 171\n",
    "\n",
    "Crear una tabla HTML a partir de un objeto `DataFrame` con `to_html`.\n",
    "\n",
    "## Solución"
   ]
  },
  {
   "cell_type": "code",
   "execution_count": 34,
   "metadata": {},
   "outputs": [],
   "source": [
    "import pandas as pd\n",
    "import numpy as np"
   ]
  },
  {
   "cell_type": "code",
   "execution_count": 35,
   "metadata": {
    "scrolled": false
   },
   "outputs": [
    {
     "data": {
      "text/html": [
       "<div>\n",
       "<style scoped>\n",
       "    .dataframe tbody tr th:only-of-type {\n",
       "        vertical-align: middle;\n",
       "    }\n",
       "\n",
       "    .dataframe tbody tr th {\n",
       "        vertical-align: top;\n",
       "    }\n",
       "\n",
       "    .dataframe thead th {\n",
       "        text-align: right;\n",
       "    }\n",
       "</style>\n",
       "<table border=\"1\" class=\"dataframe\">\n",
       "  <thead>\n",
       "    <tr style=\"text-align: right;\">\n",
       "      <th></th>\n",
       "      <th>nombre</th>\n",
       "      <th>puntaje</th>\n",
       "      <th>intentos</th>\n",
       "      <th>califico</th>\n",
       "    </tr>\n",
       "  </thead>\n",
       "  <tbody>\n",
       "    <tr>\n",
       "      <th>a</th>\n",
       "      <td>Oliva</td>\n",
       "      <td>11.5</td>\n",
       "      <td>1</td>\n",
       "      <td>Sí</td>\n",
       "    </tr>\n",
       "    <tr>\n",
       "      <th>b</th>\n",
       "      <td>Daniela</td>\n",
       "      <td>8.0</td>\n",
       "      <td>3</td>\n",
       "      <td>No</td>\n",
       "    </tr>\n",
       "    <tr>\n",
       "      <th>c</th>\n",
       "      <td>Juan</td>\n",
       "      <td>15.5</td>\n",
       "      <td>2</td>\n",
       "      <td>Sí</td>\n",
       "    </tr>\n",
       "    <tr>\n",
       "      <th>d</th>\n",
       "      <td>Germán</td>\n",
       "      <td>NaN</td>\n",
       "      <td>3</td>\n",
       "      <td>No</td>\n",
       "    </tr>\n",
       "    <tr>\n",
       "      <th>e</th>\n",
       "      <td>Edward</td>\n",
       "      <td>8.0</td>\n",
       "      <td>2</td>\n",
       "      <td>No</td>\n",
       "    </tr>\n",
       "    <tr>\n",
       "      <th>f</th>\n",
       "      <td>Alex</td>\n",
       "      <td>19.0</td>\n",
       "      <td>3</td>\n",
       "      <td>Sí</td>\n",
       "    </tr>\n",
       "    <tr>\n",
       "      <th>g</th>\n",
       "      <td>Julio</td>\n",
       "      <td>13.5</td>\n",
       "      <td>1</td>\n",
       "      <td>Sí</td>\n",
       "    </tr>\n",
       "    <tr>\n",
       "      <th>h</th>\n",
       "      <td>Edgar</td>\n",
       "      <td>NaN</td>\n",
       "      <td>1</td>\n",
       "      <td>No</td>\n",
       "    </tr>\n",
       "    <tr>\n",
       "      <th>i</th>\n",
       "      <td>Angie</td>\n",
       "      <td>8.0</td>\n",
       "      <td>2</td>\n",
       "      <td>No</td>\n",
       "    </tr>\n",
       "    <tr>\n",
       "      <th>j</th>\n",
       "      <td>Irlesa</td>\n",
       "      <td>18.0</td>\n",
       "      <td>1</td>\n",
       "      <td>Sí</td>\n",
       "    </tr>\n",
       "  </tbody>\n",
       "</table>\n",
       "</div>"
      ],
      "text/plain": [
       "    nombre  puntaje  intentos califico\n",
       "a    Oliva     11.5         1       Sí\n",
       "b  Daniela      8.0         3       No\n",
       "c     Juan     15.5         2       Sí\n",
       "d   Germán      NaN         3       No\n",
       "e   Edward      8.0         2       No\n",
       "f     Alex     19.0         3       Sí\n",
       "g    Julio     13.5         1       Sí\n",
       "h    Edgar      NaN         1       No\n",
       "i    Angie      8.0         2       No\n",
       "j   Irlesa     18.0         1       Sí"
      ]
     },
     "execution_count": 35,
     "metadata": {},
     "output_type": "execute_result"
    }
   ],
   "source": [
    "nombre = ['Oliva', 'Daniela', 'Juan', 'Germán', 'Edward', 'Alex', 'Julio', \n",
    "          'Edgar', 'Angie', 'Irlesa']\n",
    "puntaje = [11.5, 8, 15.5, np.nan, 8, 19, 13.5, np.nan, 8, 18]\n",
    "intentos = [1, 3, 2, 3, 2, 3, 1, 1, 2, 1]\n",
    "califico = ['Sí', 'No', 'Sí', 'No', 'No', 'Sí', 'Sí', 'No', 'No', 'Sí']\n",
    "\n",
    "indices = ['a', 'b', 'c', 'd', 'e', 'f', 'g', 'h', 'i', 'j']\n",
    "\n",
    "jugadores = {'nombre': nombre, 'puntaje': puntaje, 'intentos': intentos, \n",
    "             'califico': califico}\n",
    "\n",
    "df = pd.DataFrame(data=jugadores, index=indices)\n",
    "\n",
    "df"
   ]
  },
  {
   "cell_type": "code",
   "execution_count": 36,
   "metadata": {
    "scrolled": true
   },
   "outputs": [
    {
     "name": "stdout",
     "output_type": "stream",
     "text": [
      "<table border=\"1\" class=\"dataframe\">\n",
      "  <thead>\n",
      "    <tr style=\"text-align: right;\">\n",
      "      <th></th>\n",
      "      <th>nombre</th>\n",
      "      <th>puntaje</th>\n",
      "      <th>intentos</th>\n",
      "      <th>califico</th>\n",
      "    </tr>\n",
      "  </thead>\n",
      "  <tbody>\n",
      "    <tr>\n",
      "      <th>a</th>\n",
      "      <td>Oliva</td>\n",
      "      <td>11.5</td>\n",
      "      <td>1</td>\n",
      "      <td>Sí</td>\n",
      "    </tr>\n",
      "    <tr>\n",
      "      <th>b</th>\n",
      "      <td>Daniela</td>\n",
      "      <td>8.0</td>\n",
      "      <td>3</td>\n",
      "      <td>No</td>\n",
      "    </tr>\n",
      "    <tr>\n",
      "      <th>c</th>\n",
      "      <td>Juan</td>\n",
      "      <td>15.5</td>\n",
      "      <td>2</td>\n",
      "      <td>Sí</td>\n",
      "    </tr>\n",
      "    <tr>\n",
      "      <th>d</th>\n",
      "      <td>Germán</td>\n",
      "      <td>NaN</td>\n",
      "      <td>3</td>\n",
      "      <td>No</td>\n",
      "    </tr>\n",
      "    <tr>\n",
      "      <th>e</th>\n",
      "      <td>Edward</td>\n",
      "      <td>8.0</td>\n",
      "      <td>2</td>\n",
      "      <td>No</td>\n",
      "    </tr>\n",
      "    <tr>\n",
      "      <th>f</th>\n",
      "      <td>Alex</td>\n",
      "      <td>19.0</td>\n",
      "      <td>3</td>\n",
      "      <td>Sí</td>\n",
      "    </tr>\n",
      "    <tr>\n",
      "      <th>g</th>\n",
      "      <td>Julio</td>\n",
      "      <td>13.5</td>\n",
      "      <td>1</td>\n",
      "      <td>Sí</td>\n",
      "    </tr>\n",
      "    <tr>\n",
      "      <th>h</th>\n",
      "      <td>Edgar</td>\n",
      "      <td>NaN</td>\n",
      "      <td>1</td>\n",
      "      <td>No</td>\n",
      "    </tr>\n",
      "    <tr>\n",
      "      <th>i</th>\n",
      "      <td>Angie</td>\n",
      "      <td>8.0</td>\n",
      "      <td>2</td>\n",
      "      <td>No</td>\n",
      "    </tr>\n",
      "    <tr>\n",
      "      <th>j</th>\n",
      "      <td>Irlesa</td>\n",
      "      <td>18.0</td>\n",
      "      <td>1</td>\n",
      "      <td>Sí</td>\n",
      "    </tr>\n",
      "  </tbody>\n",
      "</table>\n"
     ]
    }
   ],
   "source": [
    "print(df.to_html())"
   ]
  },
  {
   "cell_type": "markdown",
   "metadata": {},
   "source": [
    "# Ejercicio 172\n",
    "\n",
    "Generar la representación JSON de un objeto `DataFrame` con `to_json`.\n",
    "\n",
    "## Solución:"
   ]
  },
  {
   "cell_type": "code",
   "execution_count": 37,
   "metadata": {},
   "outputs": [],
   "source": [
    "import pandas as pd"
   ]
  },
  {
   "cell_type": "code",
   "execution_count": 38,
   "metadata": {},
   "outputs": [
    {
     "data": {
      "text/html": [
       "<div>\n",
       "<style scoped>\n",
       "    .dataframe tbody tr th:only-of-type {\n",
       "        vertical-align: middle;\n",
       "    }\n",
       "\n",
       "    .dataframe tbody tr th {\n",
       "        vertical-align: top;\n",
       "    }\n",
       "\n",
       "    .dataframe thead th {\n",
       "        text-align: right;\n",
       "    }\n",
       "</style>\n",
       "<table border=\"1\" class=\"dataframe\">\n",
       "  <thead>\n",
       "    <tr style=\"text-align: right;\">\n",
       "      <th></th>\n",
       "      <th>X</th>\n",
       "      <th>Y</th>\n",
       "      <th>Z</th>\n",
       "    </tr>\n",
       "  </thead>\n",
       "  <tbody>\n",
       "    <tr>\n",
       "      <th>0</th>\n",
       "      <td>1</td>\n",
       "      <td>5</td>\n",
       "      <td>2</td>\n",
       "    </tr>\n",
       "    <tr>\n",
       "      <th>1</th>\n",
       "      <td>2</td>\n",
       "      <td>2</td>\n",
       "      <td>2</td>\n",
       "    </tr>\n",
       "    <tr>\n",
       "      <th>2</th>\n",
       "      <td>3</td>\n",
       "      <td>3</td>\n",
       "      <td>5</td>\n",
       "    </tr>\n",
       "    <tr>\n",
       "      <th>3</th>\n",
       "      <td>4</td>\n",
       "      <td>2</td>\n",
       "      <td>7</td>\n",
       "    </tr>\n",
       "    <tr>\n",
       "      <th>4</th>\n",
       "      <td>1</td>\n",
       "      <td>0</td>\n",
       "      <td>1</td>\n",
       "    </tr>\n",
       "  </tbody>\n",
       "</table>\n",
       "</div>"
      ],
      "text/plain": [
       "   X  Y  Z\n",
       "0  1  5  2\n",
       "1  2  2  2\n",
       "2  3  3  5\n",
       "3  4  2  7\n",
       "4  1  0  1"
      ]
     },
     "execution_count": 38,
     "metadata": {},
     "output_type": "execute_result"
    }
   ],
   "source": [
    "datos = {'X': [1, 2, 3, 4, 1], 'Y': [5, 2, 3, 2, 0], 'Z': [2, 2, 5, 7, 1]}\n",
    "\n",
    "df = pd.DataFrame(data=datos)\n",
    "\n",
    "df"
   ]
  },
  {
   "cell_type": "code",
   "execution_count": 39,
   "metadata": {},
   "outputs": [
    {
     "data": {
      "text/plain": [
       "'{\"X\":{\"0\":1,\"1\":2,\"2\":3,\"3\":4,\"4\":1},\"Y\":{\"0\":5,\"1\":2,\"2\":3,\"3\":2,\"4\":0},\"Z\":{\"0\":2,\"1\":2,\"2\":5,\"3\":7,\"4\":1}}'"
      ]
     },
     "execution_count": 39,
     "metadata": {},
     "output_type": "execute_result"
    }
   ],
   "source": [
    "df.to_json()"
   ]
  },
  {
   "cell_type": "code",
   "execution_count": 40,
   "metadata": {},
   "outputs": [],
   "source": [
    "import json"
   ]
  },
  {
   "cell_type": "code",
   "execution_count": 41,
   "metadata": {},
   "outputs": [],
   "source": [
    "objeto = json.loads(df.to_json())"
   ]
  },
  {
   "cell_type": "code",
   "execution_count": 42,
   "metadata": {},
   "outputs": [
    {
     "data": {
      "text/plain": [
       "dict"
      ]
     },
     "execution_count": 42,
     "metadata": {},
     "output_type": "execute_result"
    }
   ],
   "source": [
    "type(objeto)"
   ]
  },
  {
   "cell_type": "code",
   "execution_count": 43,
   "metadata": {},
   "outputs": [
    {
     "data": {
      "text/plain": [
       "{'0': 1, '1': 2, '2': 3, '3': 4, '4': 1}"
      ]
     },
     "execution_count": 43,
     "metadata": {},
     "output_type": "execute_result"
    }
   ],
   "source": [
    "objeto['X']"
   ]
  },
  {
   "cell_type": "code",
   "execution_count": 44,
   "metadata": {},
   "outputs": [
    {
     "data": {
      "text/plain": [
       "{'0': 5, '1': 2, '2': 3, '3': 2, '4': 0}"
      ]
     },
     "execution_count": 44,
     "metadata": {},
     "output_type": "execute_result"
    }
   ],
   "source": [
    "objeto['Y']"
   ]
  },
  {
   "cell_type": "code",
   "execution_count": 45,
   "metadata": {},
   "outputs": [
    {
     "data": {
      "text/plain": [
       "3"
      ]
     },
     "execution_count": 45,
     "metadata": {},
     "output_type": "execute_result"
    }
   ],
   "source": [
    "len(objeto)"
   ]
  },
  {
   "cell_type": "markdown",
   "metadata": {},
   "source": [
    "# Ejercicio 173\n",
    "\n",
    "Guardar los datos de un `DataFrame` en una base de datos SQLite.\n",
    "\n",
    "## Solución:"
   ]
  },
  {
   "cell_type": "code",
   "execution_count": 46,
   "metadata": {},
   "outputs": [],
   "source": [
    "from sqlalchemy import create_engine\n",
    "import pandas as pd"
   ]
  },
  {
   "cell_type": "code",
   "execution_count": 47,
   "metadata": {},
   "outputs": [
    {
     "data": {
      "text/html": [
       "<div>\n",
       "<style scoped>\n",
       "    .dataframe tbody tr th:only-of-type {\n",
       "        vertical-align: middle;\n",
       "    }\n",
       "\n",
       "    .dataframe tbody tr th {\n",
       "        vertical-align: top;\n",
       "    }\n",
       "\n",
       "    .dataframe thead th {\n",
       "        text-align: right;\n",
       "    }\n",
       "</style>\n",
       "<table border=\"1\" class=\"dataframe\">\n",
       "  <thead>\n",
       "    <tr style=\"text-align: right;\">\n",
       "      <th></th>\n",
       "      <th>X</th>\n",
       "      <th>Y</th>\n",
       "      <th>Z</th>\n",
       "    </tr>\n",
       "  </thead>\n",
       "  <tbody>\n",
       "    <tr>\n",
       "      <th>0</th>\n",
       "      <td>1</td>\n",
       "      <td>5</td>\n",
       "      <td>2</td>\n",
       "    </tr>\n",
       "    <tr>\n",
       "      <th>1</th>\n",
       "      <td>2</td>\n",
       "      <td>2</td>\n",
       "      <td>2</td>\n",
       "    </tr>\n",
       "    <tr>\n",
       "      <th>2</th>\n",
       "      <td>3</td>\n",
       "      <td>3</td>\n",
       "      <td>5</td>\n",
       "    </tr>\n",
       "    <tr>\n",
       "      <th>3</th>\n",
       "      <td>4</td>\n",
       "      <td>2</td>\n",
       "      <td>7</td>\n",
       "    </tr>\n",
       "    <tr>\n",
       "      <th>4</th>\n",
       "      <td>1</td>\n",
       "      <td>0</td>\n",
       "      <td>1</td>\n",
       "    </tr>\n",
       "  </tbody>\n",
       "</table>\n",
       "</div>"
      ],
      "text/plain": [
       "   X  Y  Z\n",
       "0  1  5  2\n",
       "1  2  2  2\n",
       "2  3  3  5\n",
       "3  4  2  7\n",
       "4  1  0  1"
      ]
     },
     "execution_count": 47,
     "metadata": {},
     "output_type": "execute_result"
    }
   ],
   "source": [
    "datos = {'X': [1, 2, 3, 4, 1], 'Y': [5, 2, 3, 2, 0], 'Z': [2, 2, 5, 7, 1]}\n",
    "\n",
    "df = pd.DataFrame(data=datos)\n",
    "\n",
    "df"
   ]
  },
  {
   "cell_type": "code",
   "execution_count": 48,
   "metadata": {},
   "outputs": [],
   "source": [
    "engine = create_engine('sqlite://', echo=False)\n",
    "\n",
    "df.to_sql('datos', con=engine)"
   ]
  },
  {
   "cell_type": "code",
   "execution_count": 49,
   "metadata": {},
   "outputs": [
    {
     "data": {
      "text/plain": [
       "[(0, 1, 5, 2), (1, 2, 2, 2), (2, 3, 3, 5), (3, 4, 2, 7), (4, 1, 0, 1)]"
      ]
     },
     "execution_count": 49,
     "metadata": {},
     "output_type": "execute_result"
    }
   ],
   "source": [
    "engine.execute('SELECT * FROM datos').fetchall()"
   ]
  },
  {
   "cell_type": "markdown",
   "metadata": {},
   "source": [
    "# Ejercicio 174\n",
    "\n",
    "Guardar los Datos de un `DataFrame` en una Base de Datos MySQL.\n",
    "\n",
    "## Solución:"
   ]
  },
  {
   "cell_type": "code",
   "execution_count": 50,
   "metadata": {},
   "outputs": [],
   "source": [
    "import pymysql\n",
    "import pandas as pd\n",
    "from sqlalchemy import create_engine"
   ]
  },
  {
   "cell_type": "code",
   "execution_count": 51,
   "metadata": {},
   "outputs": [
    {
     "data": {
      "text/html": [
       "<div>\n",
       "<style scoped>\n",
       "    .dataframe tbody tr th:only-of-type {\n",
       "        vertical-align: middle;\n",
       "    }\n",
       "\n",
       "    .dataframe tbody tr th {\n",
       "        vertical-align: top;\n",
       "    }\n",
       "\n",
       "    .dataframe thead th {\n",
       "        text-align: right;\n",
       "    }\n",
       "</style>\n",
       "<table border=\"1\" class=\"dataframe\">\n",
       "  <thead>\n",
       "    <tr style=\"text-align: right;\">\n",
       "      <th></th>\n",
       "      <th>X</th>\n",
       "      <th>Y</th>\n",
       "      <th>Z</th>\n",
       "    </tr>\n",
       "  </thead>\n",
       "  <tbody>\n",
       "    <tr>\n",
       "      <th>0</th>\n",
       "      <td>1</td>\n",
       "      <td>5</td>\n",
       "      <td>2</td>\n",
       "    </tr>\n",
       "    <tr>\n",
       "      <th>1</th>\n",
       "      <td>2</td>\n",
       "      <td>2</td>\n",
       "      <td>2</td>\n",
       "    </tr>\n",
       "    <tr>\n",
       "      <th>2</th>\n",
       "      <td>3</td>\n",
       "      <td>3</td>\n",
       "      <td>5</td>\n",
       "    </tr>\n",
       "    <tr>\n",
       "      <th>3</th>\n",
       "      <td>4</td>\n",
       "      <td>2</td>\n",
       "      <td>7</td>\n",
       "    </tr>\n",
       "    <tr>\n",
       "      <th>4</th>\n",
       "      <td>1</td>\n",
       "      <td>0</td>\n",
       "      <td>1</td>\n",
       "    </tr>\n",
       "  </tbody>\n",
       "</table>\n",
       "</div>"
      ],
      "text/plain": [
       "   X  Y  Z\n",
       "0  1  5  2\n",
       "1  2  2  2\n",
       "2  3  3  5\n",
       "3  4  2  7\n",
       "4  1  0  1"
      ]
     },
     "execution_count": 51,
     "metadata": {},
     "output_type": "execute_result"
    }
   ],
   "source": [
    "datos = {'X': [1, 2, 3, 4, 1], 'Y': [5, 2, 3, 2, 0], 'Z': [2, 2, 5, 7, 1]}\n",
    "\n",
    "df = pd.DataFrame(data=datos)\n",
    "\n",
    "df"
   ]
  },
  {
   "cell_type": "code",
   "execution_count": 52,
   "metadata": {},
   "outputs": [],
   "source": [
    "cadena_conexion = 'mysql+pymysql://root@localhost:3306/datosbd'\n",
    "conexion = create_engine(cadena_conexion)"
   ]
  },
  {
   "cell_type": "code",
   "execution_count": 54,
   "metadata": {},
   "outputs": [],
   "source": [
    "df.to_sql(name='datos', con=conexion)"
   ]
  },
  {
   "cell_type": "markdown",
   "metadata": {},
   "source": [
    "# Ejercicio 175\n",
    "\n",
    "Crear un `DataFrame` a partir de una consulta SQL.\n",
    "\n",
    "## Solución:"
   ]
  },
  {
   "cell_type": "code",
   "execution_count": 55,
   "metadata": {},
   "outputs": [],
   "source": [
    "import pymysql\n",
    "import pandas as pd\n",
    "from sqlalchemy import create_engine"
   ]
  },
  {
   "cell_type": "code",
   "execution_count": 56,
   "metadata": {},
   "outputs": [],
   "source": [
    "cadena_conexion = 'mysql+pymysql://root@localhost:3306/datosbd'\n",
    "conexion = create_engine(cadena_conexion)"
   ]
  },
  {
   "cell_type": "code",
   "execution_count": 57,
   "metadata": {},
   "outputs": [],
   "source": [
    "sql = 'SELECT * FROM datos'\n",
    "\n",
    "df = pd.read_sql_query(sql, con=conexion)"
   ]
  },
  {
   "cell_type": "code",
   "execution_count": 58,
   "metadata": {},
   "outputs": [
    {
     "data": {
      "text/html": [
       "<div>\n",
       "<style scoped>\n",
       "    .dataframe tbody tr th:only-of-type {\n",
       "        vertical-align: middle;\n",
       "    }\n",
       "\n",
       "    .dataframe tbody tr th {\n",
       "        vertical-align: top;\n",
       "    }\n",
       "\n",
       "    .dataframe thead th {\n",
       "        text-align: right;\n",
       "    }\n",
       "</style>\n",
       "<table border=\"1\" class=\"dataframe\">\n",
       "  <thead>\n",
       "    <tr style=\"text-align: right;\">\n",
       "      <th></th>\n",
       "      <th>index</th>\n",
       "      <th>X</th>\n",
       "      <th>Y</th>\n",
       "      <th>Z</th>\n",
       "    </tr>\n",
       "  </thead>\n",
       "  <tbody>\n",
       "    <tr>\n",
       "      <th>0</th>\n",
       "      <td>0</td>\n",
       "      <td>1</td>\n",
       "      <td>5</td>\n",
       "      <td>2</td>\n",
       "    </tr>\n",
       "    <tr>\n",
       "      <th>1</th>\n",
       "      <td>1</td>\n",
       "      <td>2</td>\n",
       "      <td>2</td>\n",
       "      <td>2</td>\n",
       "    </tr>\n",
       "    <tr>\n",
       "      <th>2</th>\n",
       "      <td>2</td>\n",
       "      <td>3</td>\n",
       "      <td>3</td>\n",
       "      <td>5</td>\n",
       "    </tr>\n",
       "    <tr>\n",
       "      <th>3</th>\n",
       "      <td>3</td>\n",
       "      <td>4</td>\n",
       "      <td>2</td>\n",
       "      <td>7</td>\n",
       "    </tr>\n",
       "    <tr>\n",
       "      <th>4</th>\n",
       "      <td>4</td>\n",
       "      <td>1</td>\n",
       "      <td>0</td>\n",
       "      <td>1</td>\n",
       "    </tr>\n",
       "  </tbody>\n",
       "</table>\n",
       "</div>"
      ],
      "text/plain": [
       "   index  X  Y  Z\n",
       "0      0  1  5  2\n",
       "1      1  2  2  2\n",
       "2      2  3  3  5\n",
       "3      3  4  2  7\n",
       "4      4  1  0  1"
      ]
     },
     "execution_count": 58,
     "metadata": {},
     "output_type": "execute_result"
    }
   ],
   "source": [
    "df"
   ]
  },
  {
   "cell_type": "code",
   "execution_count": 59,
   "metadata": {},
   "outputs": [
    {
     "data": {
      "text/html": [
       "<div>\n",
       "<style scoped>\n",
       "    .dataframe tbody tr th:only-of-type {\n",
       "        vertical-align: middle;\n",
       "    }\n",
       "\n",
       "    .dataframe tbody tr th {\n",
       "        vertical-align: top;\n",
       "    }\n",
       "\n",
       "    .dataframe thead th {\n",
       "        text-align: right;\n",
       "    }\n",
       "</style>\n",
       "<table border=\"1\" class=\"dataframe\">\n",
       "  <thead>\n",
       "    <tr style=\"text-align: right;\">\n",
       "      <th></th>\n",
       "      <th>X</th>\n",
       "      <th>Y</th>\n",
       "      <th>Z</th>\n",
       "    </tr>\n",
       "  </thead>\n",
       "  <tbody>\n",
       "    <tr>\n",
       "      <th>0</th>\n",
       "      <td>1</td>\n",
       "      <td>5</td>\n",
       "      <td>2</td>\n",
       "    </tr>\n",
       "    <tr>\n",
       "      <th>1</th>\n",
       "      <td>2</td>\n",
       "      <td>2</td>\n",
       "      <td>2</td>\n",
       "    </tr>\n",
       "    <tr>\n",
       "      <th>2</th>\n",
       "      <td>3</td>\n",
       "      <td>3</td>\n",
       "      <td>5</td>\n",
       "    </tr>\n",
       "    <tr>\n",
       "      <th>3</th>\n",
       "      <td>4</td>\n",
       "      <td>2</td>\n",
       "      <td>7</td>\n",
       "    </tr>\n",
       "    <tr>\n",
       "      <th>4</th>\n",
       "      <td>1</td>\n",
       "      <td>0</td>\n",
       "      <td>1</td>\n",
       "    </tr>\n",
       "  </tbody>\n",
       "</table>\n",
       "</div>"
      ],
      "text/plain": [
       "   X  Y  Z\n",
       "0  1  5  2\n",
       "1  2  2  2\n",
       "2  3  3  5\n",
       "3  4  2  7\n",
       "4  1  0  1"
      ]
     },
     "execution_count": 59,
     "metadata": {},
     "output_type": "execute_result"
    }
   ],
   "source": [
    "df.drop(columns=['index'], inplace=True)\n",
    "\n",
    "df"
   ]
  },
  {
   "cell_type": "markdown",
   "metadata": {},
   "source": [
    "# Ejercicio 176\n",
    "\n",
    "Crear un `DataFrame` con una consulta SQL (con restricción) usando MySQL.\n",
    "\n",
    "## Solución::"
   ]
  },
  {
   "cell_type": "code",
   "execution_count": 60,
   "metadata": {},
   "outputs": [],
   "source": [
    "import pymysql\n",
    "import pandas as pd\n",
    "from sqlalchemy import create_engine"
   ]
  },
  {
   "cell_type": "code",
   "execution_count": 61,
   "metadata": {},
   "outputs": [],
   "source": [
    "cadena_conexion = 'mysql+pymysql://root@localhost:3306/datosbd'\n",
    "\n",
    "conexion = create_engine(cadena_conexion)"
   ]
  },
  {
   "cell_type": "code",
   "execution_count": 62,
   "metadata": {},
   "outputs": [],
   "source": [
    "sql = 'SELECT X, Y FROM datos WHERE X <= 2'\n",
    "\n",
    "df = pd.read_sql_query(sql, con=conexion)"
   ]
  },
  {
   "cell_type": "code",
   "execution_count": 63,
   "metadata": {},
   "outputs": [
    {
     "data": {
      "text/html": [
       "<div>\n",
       "<style scoped>\n",
       "    .dataframe tbody tr th:only-of-type {\n",
       "        vertical-align: middle;\n",
       "    }\n",
       "\n",
       "    .dataframe tbody tr th {\n",
       "        vertical-align: top;\n",
       "    }\n",
       "\n",
       "    .dataframe thead th {\n",
       "        text-align: right;\n",
       "    }\n",
       "</style>\n",
       "<table border=\"1\" class=\"dataframe\">\n",
       "  <thead>\n",
       "    <tr style=\"text-align: right;\">\n",
       "      <th></th>\n",
       "      <th>X</th>\n",
       "      <th>Y</th>\n",
       "    </tr>\n",
       "  </thead>\n",
       "  <tbody>\n",
       "    <tr>\n",
       "      <th>0</th>\n",
       "      <td>1</td>\n",
       "      <td>5</td>\n",
       "    </tr>\n",
       "    <tr>\n",
       "      <th>1</th>\n",
       "      <td>2</td>\n",
       "      <td>2</td>\n",
       "    </tr>\n",
       "    <tr>\n",
       "      <th>2</th>\n",
       "      <td>1</td>\n",
       "      <td>0</td>\n",
       "    </tr>\n",
       "  </tbody>\n",
       "</table>\n",
       "</div>"
      ],
      "text/plain": [
       "   X  Y\n",
       "0  1  5\n",
       "1  2  2\n",
       "2  1  0"
      ]
     },
     "execution_count": 63,
     "metadata": {},
     "output_type": "execute_result"
    }
   ],
   "source": [
    "df"
   ]
  },
  {
   "cell_type": "markdown",
   "metadata": {},
   "source": [
    "# Ejercicio 177\n",
    "\n",
    "Copiar al portapapeles del sistema operativo el contenido de un `DataFrame`.\n",
    "\n",
    "## Solución:"
   ]
  },
  {
   "cell_type": "code",
   "execution_count": 64,
   "metadata": {},
   "outputs": [],
   "source": [
    "import pandas as pd"
   ]
  },
  {
   "cell_type": "code",
   "execution_count": 65,
   "metadata": {},
   "outputs": [
    {
     "data": {
      "text/html": [
       "<div>\n",
       "<style scoped>\n",
       "    .dataframe tbody tr th:only-of-type {\n",
       "        vertical-align: middle;\n",
       "    }\n",
       "\n",
       "    .dataframe tbody tr th {\n",
       "        vertical-align: top;\n",
       "    }\n",
       "\n",
       "    .dataframe thead th {\n",
       "        text-align: right;\n",
       "    }\n",
       "</style>\n",
       "<table border=\"1\" class=\"dataframe\">\n",
       "  <thead>\n",
       "    <tr style=\"text-align: right;\">\n",
       "      <th></th>\n",
       "      <th>X</th>\n",
       "      <th>Y</th>\n",
       "      <th>Z</th>\n",
       "    </tr>\n",
       "  </thead>\n",
       "  <tbody>\n",
       "    <tr>\n",
       "      <th>0</th>\n",
       "      <td>1</td>\n",
       "      <td>5</td>\n",
       "      <td>2</td>\n",
       "    </tr>\n",
       "    <tr>\n",
       "      <th>1</th>\n",
       "      <td>2</td>\n",
       "      <td>2</td>\n",
       "      <td>2</td>\n",
       "    </tr>\n",
       "    <tr>\n",
       "      <th>2</th>\n",
       "      <td>3</td>\n",
       "      <td>3</td>\n",
       "      <td>5</td>\n",
       "    </tr>\n",
       "    <tr>\n",
       "      <th>3</th>\n",
       "      <td>4</td>\n",
       "      <td>2</td>\n",
       "      <td>7</td>\n",
       "    </tr>\n",
       "    <tr>\n",
       "      <th>4</th>\n",
       "      <td>1</td>\n",
       "      <td>0</td>\n",
       "      <td>1</td>\n",
       "    </tr>\n",
       "  </tbody>\n",
       "</table>\n",
       "</div>"
      ],
      "text/plain": [
       "   X  Y  Z\n",
       "0  1  5  2\n",
       "1  2  2  2\n",
       "2  3  3  5\n",
       "3  4  2  7\n",
       "4  1  0  1"
      ]
     },
     "execution_count": 65,
     "metadata": {},
     "output_type": "execute_result"
    }
   ],
   "source": [
    "datos = {'X': [1, 2, 3, 4, 1], 'Y': [5, 2, 3, 2, 0], 'Z': [2, 2, 5, 7, 1]}\n",
    "\n",
    "df = pd.DataFrame(data=datos)\n",
    "\n",
    "df"
   ]
  },
  {
   "cell_type": "code",
   "execution_count": 66,
   "metadata": {},
   "outputs": [],
   "source": [
    "df.to_clipboard()"
   ]
  },
  {
   "cell_type": "code",
   "execution_count": 67,
   "metadata": {},
   "outputs": [
    {
     "ename": "SyntaxError",
     "evalue": "invalid syntax (<ipython-input-67-23f29e8c01ba>, line 1)",
     "output_type": "error",
     "traceback": [
      "\u001b[1;36m  File \u001b[1;32m\"<ipython-input-67-23f29e8c01ba>\"\u001b[1;36m, line \u001b[1;32m1\u001b[0m\n\u001b[1;33m    X\tY\tZ\u001b[0m\n\u001b[1;37m     \t^\u001b[0m\n\u001b[1;31mSyntaxError\u001b[0m\u001b[1;31m:\u001b[0m invalid syntax\n"
     ]
    }
   ],
   "source": [
    "\tX\tY\tZ\n",
    "0\t1\t5\t2\n",
    "1\t2\t2\t2\n",
    "2\t3\t3\t5\n",
    "3\t4\t2\t7\n",
    "4\t1\t0\t1\n"
   ]
  },
  {
   "cell_type": "markdown",
   "metadata": {},
   "source": [
    "# Ejercicio 178\n",
    "\n",
    "Pegar en un documento de **Microsoft Word** el contenido de un `DataFrame`.\n",
    "\n",
    "## Solución:"
   ]
  },
  {
   "cell_type": "code",
   "execution_count": null,
   "metadata": {},
   "outputs": [],
   "source": [
    "import pandas as pd\n",
    "import numpy as np"
   ]
  },
  {
   "cell_type": "code",
   "execution_count": null,
   "metadata": {},
   "outputs": [],
   "source": [
    "nombre = ['Oliva', 'Daniela', 'Juan', 'Germán', 'Edward', 'Alex', 'Julio', \n",
    "          'Edgar', 'Angie', 'Irlesa']\n",
    "puntaje = [11.5, 8, 15.5, np.nan, 8, 19, 13.5, np.nan, 8, 18]\n",
    "intentos = [1, 3, 2, 3, 2, 3, 1, 1, 2, 1]\n",
    "califico = ['Sí', 'No', 'Sí', 'No', 'No', 'Sí', 'Sí', 'No', 'No', 'Sí']\n",
    "\n",
    "indices = ['a', 'b', 'c', 'd', 'e', 'f', 'g', 'h', 'i', 'j']\n",
    "\n",
    "jugadores = {'nombre': nombre, 'puntaje': puntaje, 'intentos': intentos, \n",
    "             'califico': califico}\n",
    "\n",
    "df = pd.DataFrame(data=jugadores, index=indices)\n",
    "\n",
    "df"
   ]
  },
  {
   "cell_type": "code",
   "execution_count": null,
   "metadata": {},
   "outputs": [],
   "source": [
    "df.to_clipboard()"
   ]
  },
  {
   "cell_type": "markdown",
   "metadata": {},
   "source": [
    "# Ejercicio 179\n",
    "\n",
    "Leer un archivo CSV con la función `read_csv` para crear un `DataFrame`.\n",
    "\n",
    "## Solución:"
   ]
  },
  {
   "cell_type": "code",
   "execution_count": null,
   "metadata": {},
   "outputs": [],
   "source": [
    "import pandas as pd"
   ]
  },
  {
   "cell_type": "code",
   "execution_count": null,
   "metadata": {},
   "outputs": [],
   "source": [
    "df = pd.read_csv('employees.csv')"
   ]
  },
  {
   "cell_type": "code",
   "execution_count": null,
   "metadata": {},
   "outputs": [],
   "source": [
    "df"
   ]
  },
  {
   "cell_type": "code",
   "execution_count": null,
   "metadata": {},
   "outputs": [],
   "source": [
    "df.size"
   ]
  },
  {
   "cell_type": "code",
   "execution_count": null,
   "metadata": {},
   "outputs": [],
   "source": [
    "df.columns"
   ]
  },
  {
   "cell_type": "code",
   "execution_count": null,
   "metadata": {},
   "outputs": [],
   "source": [
    "df.info()"
   ]
  },
  {
   "cell_type": "code",
   "execution_count": null,
   "metadata": {},
   "outputs": [],
   "source": [
    "df.describe()"
   ]
  },
  {
   "cell_type": "markdown",
   "metadata": {},
   "source": [
    "# Ejercicio 180\n",
    "\n",
    "Crear un `DataFrame` a partir del contenido del portapapeles del sistema usando `read_clipboard`.\n",
    "\n",
    "## Solución:"
   ]
  },
  {
   "cell_type": "code",
   "execution_count": null,
   "metadata": {},
   "outputs": [],
   "source": [
    "import pandas as pd"
   ]
  },
  {
   "cell_type": "markdown",
   "metadata": {},
   "source": [
    "`_\tX\tY\tZ\n",
    "0\t1\t5\t2\n",
    "1\t2\t2\t2\n",
    "2\t3\t3\t5\n",
    "3\t4\t2\t7\n",
    "4\t1\t0\t1\n",
    "`"
   ]
  },
  {
   "cell_type": "code",
   "execution_count": null,
   "metadata": {},
   "outputs": [],
   "source": [
    "df = pd.read_clipboard()"
   ]
  },
  {
   "cell_type": "code",
   "execution_count": null,
   "metadata": {},
   "outputs": [],
   "source": [
    "df"
   ]
  },
  {
   "cell_type": "markdown",
   "metadata": {},
   "source": [
    "# Ejercicio 181\n",
    "\n",
    "Crear un `DataFrame` a partir de un archivo de **Microsoft Excel**.\n",
    "\n",
    "## Solución:"
   ]
  },
  {
   "cell_type": "code",
   "execution_count": null,
   "metadata": {},
   "outputs": [],
   "source": [
    "import pandas as pd"
   ]
  },
  {
   "cell_type": "code",
   "execution_count": null,
   "metadata": {},
   "outputs": [],
   "source": [
    "df = pd.read_excel('produccion.xlsx')"
   ]
  },
  {
   "cell_type": "code",
   "execution_count": null,
   "metadata": {},
   "outputs": [],
   "source": [
    "df"
   ]
  },
  {
   "cell_type": "code",
   "execution_count": null,
   "metadata": {},
   "outputs": [],
   "source": [
    "df.describe()"
   ]
  },
  {
   "cell_type": "markdown",
   "metadata": {},
   "source": [
    "# Ejercicio 182\n",
    "\n",
    "Leer un archivo JSON con `read_json` para crear un objeto `DataFrame`.\n",
    "\n",
    "## Solución:"
   ]
  },
  {
   "cell_type": "code",
   "execution_count": null,
   "metadata": {},
   "outputs": [],
   "source": [
    "import pandas as pd"
   ]
  },
  {
   "cell_type": "code",
   "execution_count": null,
   "metadata": {},
   "outputs": [],
   "source": [
    "nombre_archivo = 'productos.json'\n",
    "\n",
    "df = pd.read_json(nombre_archivo)"
   ]
  },
  {
   "cell_type": "code",
   "execution_count": null,
   "metadata": {},
   "outputs": [],
   "source": [
    "df"
   ]
  },
  {
   "cell_type": "markdown",
   "metadata": {},
   "source": [
    "# Ejercicio 183\n",
    "\n",
    "Generar el esquema tabular de un `DataFrame` con `build_table_schema`.\n",
    "\n",
    "## Solución:"
   ]
  },
  {
   "cell_type": "code",
   "execution_count": null,
   "metadata": {},
   "outputs": [],
   "source": [
    "import pandas as pd\n",
    "import numpy as np"
   ]
  },
  {
   "cell_type": "code",
   "execution_count": null,
   "metadata": {},
   "outputs": [],
   "source": [
    "nombre = ['Oliva', 'Daniela', 'Juan', 'Germán', 'Edward', 'Alex', 'Julio', \n",
    "          'Edgar', 'Angie', 'Irlesa']\n",
    "puntaje = [11.5, 8, 15.5, np.nan, 8, 19, 13.5, np.nan, 8, 18]\n",
    "intentos = [1, 3, 2, 3, 2, 3, 1, 1, 2, 1]\n",
    "califico = ['Sí', 'No', 'Sí', 'No', 'No', 'Sí', 'Sí', 'No', 'No', 'Sí']\n",
    "\n",
    "estudiantes = {'nombre': nombre, 'puntaje': puntaje, 'intentos': intentos, \n",
    "             'califico': califico}\n",
    "\n",
    "indices = ['a', 'b', 'c', 'd', 'e', 'f', 'g', 'h', 'i', 'j']\n",
    "\n",
    "df = pd.DataFrame(data=estudiantes, index=indices)\n",
    "\n",
    "df"
   ]
  },
  {
   "cell_type": "code",
   "execution_count": null,
   "metadata": {},
   "outputs": [],
   "source": [
    "pd.io.json.build_table_schema(df)"
   ]
  },
  {
   "cell_type": "markdown",
   "metadata": {},
   "source": [
    "# Ejercicio 184\n",
    "\n",
    "Leer un archivo HTML para crear un objeto `DataFrame` usando `read_html`.\n",
    "\n",
    "## Solución:"
   ]
  },
  {
   "cell_type": "code",
   "execution_count": null,
   "metadata": {},
   "outputs": [],
   "source": [
    "import pandas as pd"
   ]
  },
  {
   "cell_type": "code",
   "execution_count": null,
   "metadata": {},
   "outputs": [],
   "source": [
    "nombre_archivo = 'tabla.html'\n",
    "\n",
    "df = pd.read_html(nombre_archivo)[0]"
   ]
  },
  {
   "cell_type": "code",
   "execution_count": null,
   "metadata": {},
   "outputs": [],
   "source": [
    "df"
   ]
  },
  {
   "cell_type": "markdown",
   "metadata": {},
   "source": [
    "# Ejercicio 185\n",
    "\n",
    "Usar la función `not_null` para identificar valores nulos en un `DataFrame`.\n",
    "\n",
    "## Solución:"
   ]
  },
  {
   "cell_type": "code",
   "execution_count": null,
   "metadata": {},
   "outputs": [],
   "source": [
    "import pandas as pd\n",
    "import numpy as np<"
   ]
  },
  {
   "cell_type": "code",
   "execution_count": null,
   "metadata": {},
   "outputs": [],
   "source": [
    "datos = {'X': [1, 2, np.nan, 4, None], 'Y': [5, 2, 3, None, 0], 'Z': [2, 2, 5, 7, np.nan]}\n",
    "\n",
    "df = pd.DataFrame(data=datos)\n",
    "\n",
    "df"
   ]
  },
  {
   "cell_type": "code",
   "execution_count": null,
   "metadata": {},
   "outputs": [],
   "source": [
    "pd.isnull(df)"
   ]
  },
  {
   "cell_type": "code",
   "execution_count": null,
   "metadata": {},
   "outputs": [],
   "source": [
    "df.isnull()"
   ]
  },
  {
   "cell_type": "markdown",
   "metadata": {},
   "source": [
    "# Ejercicio 186\n",
    "\n",
    "Obtener los elementos distintos de una columna de un `DataFrame` con `unique`.\n",
    "\n",
    "## Solución:"
   ]
  },
  {
   "cell_type": "code",
   "execution_count": null,
   "metadata": {},
   "outputs": [],
   "source": [
    "import pandas as pd"
   ]
  },
  {
   "cell_type": "code",
   "execution_count": null,
   "metadata": {},
   "outputs": [],
   "source": [
    "nombre_archivo = 'departments.csv'\n",
    "\n",
    "df = pd.read_csv(nombre_archivo)"
   ]
  },
  {
   "cell_type": "code",
   "execution_count": null,
   "metadata": {},
   "outputs": [],
   "source": [
    "df"
   ]
  },
  {
   "cell_type": "code",
   "execution_count": null,
   "metadata": {},
   "outputs": [],
   "source": [
    "df.location_id.unique()"
   ]
  },
  {
   "cell_type": "markdown",
   "metadata": {},
   "source": [
    "# Ejercicio 187\n",
    "\n",
    "Encontrar registros de un `DataFrame` que cumplan una condición respecto a una columna.\n",
    "\n",
    "## Solución:"
   ]
  },
  {
   "cell_type": "code",
   "execution_count": null,
   "metadata": {},
   "outputs": [],
   "source": [
    "import pandas as pd"
   ]
  },
  {
   "cell_type": "code",
   "execution_count": null,
   "metadata": {},
   "outputs": [],
   "source": [
    "nombre_archivo = 'employees.csv'\n",
    "\n",
    "df = pd.read_csv(nombre_archivo)"
   ]
  },
  {
   "cell_type": "code",
   "execution_count": null,
   "metadata": {},
   "outputs": [],
   "source": [
    "df.head(10)"
   ]
  },
  {
   "cell_type": "code",
   "execution_count": null,
   "metadata": {},
   "outputs": [],
   "source": [
    "resultado = df[df.salary <= 3000]"
   ]
  },
  {
   "cell_type": "code",
   "execution_count": null,
   "metadata": {},
   "outputs": [],
   "source": [
    "len(resultado)"
   ]
  },
  {
   "cell_type": "code",
   "execution_count": null,
   "metadata": {},
   "outputs": [],
   "source": [
    "len(df)"
   ]
  },
  {
   "cell_type": "code",
   "execution_count": null,
   "metadata": {},
   "outputs": [],
   "source": [
    "for index, registro in resultado.iterrows():\n",
    "    print('{:<10}{:>30}{:>20}'.format(registro['first_name'], registro['last_name'], registro['salary']))"
   ]
  },
  {
   "cell_type": "markdown",
   "metadata": {},
   "source": [
    "# Ejercicio 188\n",
    "\n",
    "Obtener los registros donde el nombre de un empleado empiece con *J*.\n",
    "\n",
    "## Solución:"
   ]
  },
  {
   "cell_type": "code",
   "execution_count": null,
   "metadata": {},
   "outputs": [],
   "source": [
    "import pandas as pd"
   ]
  },
  {
   "cell_type": "code",
   "execution_count": null,
   "metadata": {},
   "outputs": [],
   "source": [
    "nombre_archivo = 'employees.csv'\n",
    "\n",
    "df = pd.read_csv(nombre_archivo)"
   ]
  },
  {
   "cell_type": "code",
   "execution_count": 68,
   "metadata": {},
   "outputs": [
    {
     "data": {
      "text/html": [
       "<div>\n",
       "<style scoped>\n",
       "    .dataframe tbody tr th:only-of-type {\n",
       "        vertical-align: middle;\n",
       "    }\n",
       "\n",
       "    .dataframe tbody tr th {\n",
       "        vertical-align: top;\n",
       "    }\n",
       "\n",
       "    .dataframe thead th {\n",
       "        text-align: right;\n",
       "    }\n",
       "</style>\n",
       "<table border=\"1\" class=\"dataframe\">\n",
       "  <thead>\n",
       "    <tr style=\"text-align: right;\">\n",
       "      <th></th>\n",
       "      <th>X</th>\n",
       "      <th>Y</th>\n",
       "      <th>Z</th>\n",
       "    </tr>\n",
       "  </thead>\n",
       "  <tbody>\n",
       "    <tr>\n",
       "      <th>0</th>\n",
       "      <td>1</td>\n",
       "      <td>5</td>\n",
       "      <td>2</td>\n",
       "    </tr>\n",
       "    <tr>\n",
       "      <th>1</th>\n",
       "      <td>2</td>\n",
       "      <td>2</td>\n",
       "      <td>2</td>\n",
       "    </tr>\n",
       "    <tr>\n",
       "      <th>2</th>\n",
       "      <td>3</td>\n",
       "      <td>3</td>\n",
       "      <td>5</td>\n",
       "    </tr>\n",
       "    <tr>\n",
       "      <th>3</th>\n",
       "      <td>4</td>\n",
       "      <td>2</td>\n",
       "      <td>7</td>\n",
       "    </tr>\n",
       "    <tr>\n",
       "      <th>4</th>\n",
       "      <td>1</td>\n",
       "      <td>0</td>\n",
       "      <td>1</td>\n",
       "    </tr>\n",
       "  </tbody>\n",
       "</table>\n",
       "</div>"
      ],
      "text/plain": [
       "   X  Y  Z\n",
       "0  1  5  2\n",
       "1  2  2  2\n",
       "2  3  3  5\n",
       "3  4  2  7\n",
       "4  1  0  1"
      ]
     },
     "execution_count": 68,
     "metadata": {},
     "output_type": "execute_result"
    }
   ],
   "source": [
    "df.head(10)"
   ]
  },
  {
   "cell_type": "code",
   "execution_count": 69,
   "metadata": {},
   "outputs": [
    {
     "ename": "KeyError",
     "evalue": "'first_name'",
     "output_type": "error",
     "traceback": [
      "\u001b[1;31m---------------------------------------------------------------------------\u001b[0m",
      "\u001b[1;31mKeyError\u001b[0m                                  Traceback (most recent call last)",
      "\u001b[1;32m~\\Anaconda3-2018.12\\lib\\site-packages\\pandas\\core\\indexes\\base.py\u001b[0m in \u001b[0;36mget_loc\u001b[1;34m(self, key, method, tolerance)\u001b[0m\n\u001b[0;32m   2656\u001b[0m             \u001b[1;32mtry\u001b[0m\u001b[1;33m:\u001b[0m\u001b[1;33m\u001b[0m\u001b[1;33m\u001b[0m\u001b[0m\n\u001b[1;32m-> 2657\u001b[1;33m                 \u001b[1;32mreturn\u001b[0m \u001b[0mself\u001b[0m\u001b[1;33m.\u001b[0m\u001b[0m_engine\u001b[0m\u001b[1;33m.\u001b[0m\u001b[0mget_loc\u001b[0m\u001b[1;33m(\u001b[0m\u001b[0mkey\u001b[0m\u001b[1;33m)\u001b[0m\u001b[1;33m\u001b[0m\u001b[1;33m\u001b[0m\u001b[0m\n\u001b[0m\u001b[0;32m   2658\u001b[0m             \u001b[1;32mexcept\u001b[0m \u001b[0mKeyError\u001b[0m\u001b[1;33m:\u001b[0m\u001b[1;33m\u001b[0m\u001b[1;33m\u001b[0m\u001b[0m\n",
      "\u001b[1;32mpandas/_libs/index.pyx\u001b[0m in \u001b[0;36mpandas._libs.index.IndexEngine.get_loc\u001b[1;34m()\u001b[0m\n",
      "\u001b[1;32mpandas/_libs/index.pyx\u001b[0m in \u001b[0;36mpandas._libs.index.IndexEngine.get_loc\u001b[1;34m()\u001b[0m\n",
      "\u001b[1;32mpandas/_libs/hashtable_class_helper.pxi\u001b[0m in \u001b[0;36mpandas._libs.hashtable.PyObjectHashTable.get_item\u001b[1;34m()\u001b[0m\n",
      "\u001b[1;32mpandas/_libs/hashtable_class_helper.pxi\u001b[0m in \u001b[0;36mpandas._libs.hashtable.PyObjectHashTable.get_item\u001b[1;34m()\u001b[0m\n",
      "\u001b[1;31mKeyError\u001b[0m: 'first_name'",
      "\nDuring handling of the above exception, another exception occurred:\n",
      "\u001b[1;31mKeyError\u001b[0m                                  Traceback (most recent call last)",
      "\u001b[1;32m<ipython-input-69-07b6184add5d>\u001b[0m in \u001b[0;36m<module>\u001b[1;34m\u001b[0m\n\u001b[1;32m----> 1\u001b[1;33m \u001b[0mresultado\u001b[0m \u001b[1;33m=\u001b[0m \u001b[0mdf\u001b[0m\u001b[1;33m[\u001b[0m\u001b[0mdf\u001b[0m\u001b[1;33m[\u001b[0m\u001b[1;34m'first_name'\u001b[0m\u001b[1;33m]\u001b[0m\u001b[1;33m.\u001b[0m\u001b[0mstr\u001b[0m\u001b[1;33m[\u001b[0m\u001b[1;33m:\u001b[0m\u001b[1;36m1\u001b[0m\u001b[1;33m]\u001b[0m \u001b[1;33m==\u001b[0m \u001b[1;34m'J'\u001b[0m\u001b[1;33m]\u001b[0m\u001b[1;33m\u001b[0m\u001b[1;33m\u001b[0m\u001b[0m\n\u001b[0m",
      "\u001b[1;32m~\\Anaconda3-2018.12\\lib\\site-packages\\pandas\\core\\frame.py\u001b[0m in \u001b[0;36m__getitem__\u001b[1;34m(self, key)\u001b[0m\n\u001b[0;32m   2925\u001b[0m             \u001b[1;32mif\u001b[0m \u001b[0mself\u001b[0m\u001b[1;33m.\u001b[0m\u001b[0mcolumns\u001b[0m\u001b[1;33m.\u001b[0m\u001b[0mnlevels\u001b[0m \u001b[1;33m>\u001b[0m \u001b[1;36m1\u001b[0m\u001b[1;33m:\u001b[0m\u001b[1;33m\u001b[0m\u001b[1;33m\u001b[0m\u001b[0m\n\u001b[0;32m   2926\u001b[0m                 \u001b[1;32mreturn\u001b[0m \u001b[0mself\u001b[0m\u001b[1;33m.\u001b[0m\u001b[0m_getitem_multilevel\u001b[0m\u001b[1;33m(\u001b[0m\u001b[0mkey\u001b[0m\u001b[1;33m)\u001b[0m\u001b[1;33m\u001b[0m\u001b[1;33m\u001b[0m\u001b[0m\n\u001b[1;32m-> 2927\u001b[1;33m             \u001b[0mindexer\u001b[0m \u001b[1;33m=\u001b[0m \u001b[0mself\u001b[0m\u001b[1;33m.\u001b[0m\u001b[0mcolumns\u001b[0m\u001b[1;33m.\u001b[0m\u001b[0mget_loc\u001b[0m\u001b[1;33m(\u001b[0m\u001b[0mkey\u001b[0m\u001b[1;33m)\u001b[0m\u001b[1;33m\u001b[0m\u001b[1;33m\u001b[0m\u001b[0m\n\u001b[0m\u001b[0;32m   2928\u001b[0m             \u001b[1;32mif\u001b[0m \u001b[0mis_integer\u001b[0m\u001b[1;33m(\u001b[0m\u001b[0mindexer\u001b[0m\u001b[1;33m)\u001b[0m\u001b[1;33m:\u001b[0m\u001b[1;33m\u001b[0m\u001b[1;33m\u001b[0m\u001b[0m\n\u001b[0;32m   2929\u001b[0m                 \u001b[0mindexer\u001b[0m \u001b[1;33m=\u001b[0m \u001b[1;33m[\u001b[0m\u001b[0mindexer\u001b[0m\u001b[1;33m]\u001b[0m\u001b[1;33m\u001b[0m\u001b[1;33m\u001b[0m\u001b[0m\n",
      "\u001b[1;32m~\\Anaconda3-2018.12\\lib\\site-packages\\pandas\\core\\indexes\\base.py\u001b[0m in \u001b[0;36mget_loc\u001b[1;34m(self, key, method, tolerance)\u001b[0m\n\u001b[0;32m   2657\u001b[0m                 \u001b[1;32mreturn\u001b[0m \u001b[0mself\u001b[0m\u001b[1;33m.\u001b[0m\u001b[0m_engine\u001b[0m\u001b[1;33m.\u001b[0m\u001b[0mget_loc\u001b[0m\u001b[1;33m(\u001b[0m\u001b[0mkey\u001b[0m\u001b[1;33m)\u001b[0m\u001b[1;33m\u001b[0m\u001b[1;33m\u001b[0m\u001b[0m\n\u001b[0;32m   2658\u001b[0m             \u001b[1;32mexcept\u001b[0m \u001b[0mKeyError\u001b[0m\u001b[1;33m:\u001b[0m\u001b[1;33m\u001b[0m\u001b[1;33m\u001b[0m\u001b[0m\n\u001b[1;32m-> 2659\u001b[1;33m                 \u001b[1;32mreturn\u001b[0m \u001b[0mself\u001b[0m\u001b[1;33m.\u001b[0m\u001b[0m_engine\u001b[0m\u001b[1;33m.\u001b[0m\u001b[0mget_loc\u001b[0m\u001b[1;33m(\u001b[0m\u001b[0mself\u001b[0m\u001b[1;33m.\u001b[0m\u001b[0m_maybe_cast_indexer\u001b[0m\u001b[1;33m(\u001b[0m\u001b[0mkey\u001b[0m\u001b[1;33m)\u001b[0m\u001b[1;33m)\u001b[0m\u001b[1;33m\u001b[0m\u001b[1;33m\u001b[0m\u001b[0m\n\u001b[0m\u001b[0;32m   2660\u001b[0m         \u001b[0mindexer\u001b[0m \u001b[1;33m=\u001b[0m \u001b[0mself\u001b[0m\u001b[1;33m.\u001b[0m\u001b[0mget_indexer\u001b[0m\u001b[1;33m(\u001b[0m\u001b[1;33m[\u001b[0m\u001b[0mkey\u001b[0m\u001b[1;33m]\u001b[0m\u001b[1;33m,\u001b[0m \u001b[0mmethod\u001b[0m\u001b[1;33m=\u001b[0m\u001b[0mmethod\u001b[0m\u001b[1;33m,\u001b[0m \u001b[0mtolerance\u001b[0m\u001b[1;33m=\u001b[0m\u001b[0mtolerance\u001b[0m\u001b[1;33m)\u001b[0m\u001b[1;33m\u001b[0m\u001b[1;33m\u001b[0m\u001b[0m\n\u001b[0;32m   2661\u001b[0m         \u001b[1;32mif\u001b[0m \u001b[0mindexer\u001b[0m\u001b[1;33m.\u001b[0m\u001b[0mndim\u001b[0m \u001b[1;33m>\u001b[0m \u001b[1;36m1\u001b[0m \u001b[1;32mor\u001b[0m \u001b[0mindexer\u001b[0m\u001b[1;33m.\u001b[0m\u001b[0msize\u001b[0m \u001b[1;33m>\u001b[0m \u001b[1;36m1\u001b[0m\u001b[1;33m:\u001b[0m\u001b[1;33m\u001b[0m\u001b[1;33m\u001b[0m\u001b[0m\n",
      "\u001b[1;32mpandas/_libs/index.pyx\u001b[0m in \u001b[0;36mpandas._libs.index.IndexEngine.get_loc\u001b[1;34m()\u001b[0m\n",
      "\u001b[1;32mpandas/_libs/index.pyx\u001b[0m in \u001b[0;36mpandas._libs.index.IndexEngine.get_loc\u001b[1;34m()\u001b[0m\n",
      "\u001b[1;32mpandas/_libs/hashtable_class_helper.pxi\u001b[0m in \u001b[0;36mpandas._libs.hashtable.PyObjectHashTable.get_item\u001b[1;34m()\u001b[0m\n",
      "\u001b[1;32mpandas/_libs/hashtable_class_helper.pxi\u001b[0m in \u001b[0;36mpandas._libs.hashtable.PyObjectHashTable.get_item\u001b[1;34m()\u001b[0m\n",
      "\u001b[1;31mKeyError\u001b[0m: 'first_name'"
     ]
    }
   ],
   "source": [
    "resultado = df[df['first_name'].str[:1] == 'J']"
   ]
  },
  {
   "cell_type": "code",
   "execution_count": null,
   "metadata": {},
   "outputs": [],
   "source": [
    "resultado"
   ]
  },
  {
   "cell_type": "code",
   "execution_count": null,
   "metadata": {},
   "outputs": [],
   "source": [
    "len(df)"
   ]
  },
  {
   "cell_type": "code",
   "execution_count": null,
   "metadata": {},
   "outputs": [],
   "source": [
    "len(resultado)"
   ]
  },
  {
   "cell_type": "markdown",
   "metadata": {},
   "source": [
    "## Ejercicio 189\n",
    "\n",
    "Obtener aquellos empleados donde su apellido no contenga la letra *h*.\n",
    "\n",
    "## Solución:"
   ]
  },
  {
   "cell_type": "code",
   "execution_count": null,
   "metadata": {},
   "outputs": [],
   "source": [
    "import pandas as pd"
   ]
  },
  {
   "cell_type": "code",
   "execution_count": null,
   "metadata": {},
   "outputs": [],
   "source": [
    "nombre_archivo = 'employees.csv'\n",
    "\n",
    "df = pd.read_csv(nombre_archivo)"
   ]
  },
  {
   "cell_type": "code",
   "execution_count": null,
   "metadata": {},
   "outputs": [],
   "source": [
    "df.head(10)"
   ]
  },
  {
   "cell_type": "code",
   "execution_count": null,
   "metadata": {},
   "outputs": [],
   "source": [
    "resultado = df[df['last_name'].str.lower().str.find('h') == -1]"
   ]
  },
  {
   "cell_type": "code",
   "execution_count": null,
   "metadata": {},
   "outputs": [],
   "source": [
    "resultado"
   ]
  },
  {
   "cell_type": "markdown",
   "metadata": {},
   "source": [
    "# Ejercicio 190\n",
    "\n",
    "Ordenar en modo descendente los empleados a partir de su ID de departamento.\n",
    "\n",
    "## Solución:"
   ]
  },
  {
   "cell_type": "code",
   "execution_count": null,
   "metadata": {},
   "outputs": [],
   "source": [
    "import pandas as pd"
   ]
  },
  {
   "cell_type": "code",
   "execution_count": null,
   "metadata": {},
   "outputs": [],
   "source": [
    "nombre_archivo = 'employees.csv'\n",
    "\n",
    "df = pd.read_csv(nombre_archivo)"
   ]
  },
  {
   "cell_type": "code",
   "execution_count": null,
   "metadata": {},
   "outputs": [],
   "source": [
    "df.head(10)"
   ]
  },
  {
   "cell_type": "code",
   "execution_count": null,
   "metadata": {},
   "outputs": [],
   "source": [
    "resultado = df.sort_values('department_id', ascending=False)"
   ]
  },
  {
   "cell_type": "code",
   "execution_count": null,
   "metadata": {},
   "outputs": [],
   "source": [
    "resultado"
   ]
  },
  {
   "cell_type": "markdown",
   "metadata": {},
   "source": [
    "# Ejercicio 191\n",
    "\n",
    "Obtener el empleado que es gerente de la empresa.\n",
    "\n",
    "## Solución:"
   ]
  },
  {
   "cell_type": "code",
   "execution_count": null,
   "metadata": {},
   "outputs": [],
   "source": [
    "import pandas as pd"
   ]
  },
  {
   "cell_type": "code",
   "execution_count": null,
   "metadata": {},
   "outputs": [],
   "source": [
    "nombre_archivo = 'employees.csv'\n",
    "\n",
    "df = pd.read_csv(nombre_archivo)"
   ]
  },
  {
   "cell_type": "code",
   "execution_count": null,
   "metadata": {},
   "outputs": [],
   "source": [
    "resultado = df[df['manager_id'].isnull()]"
   ]
  },
  {
   "cell_type": "code",
   "execution_count": null,
   "metadata": {},
   "outputs": [],
   "source": [
    "resultado"
   ]
  },
  {
   "cell_type": "markdown",
   "metadata": {},
   "source": [
    "# Ejercicio 192\n",
    "\n",
    "Encontrar todos los empleados que están a cargo de un jefe.\n",
    "\n",
    "## Solución:"
   ]
  },
  {
   "cell_type": "code",
   "execution_count": null,
   "metadata": {},
   "outputs": [],
   "source": [
    "import pandas as pd"
   ]
  },
  {
   "cell_type": "code",
   "execution_count": null,
   "metadata": {},
   "outputs": [],
   "source": [
    "nombre_archivo = 'employees.csv'\n",
    "\n",
    "df = pd.read_csv(nombre_archivo)"
   ]
  },
  {
   "cell_type": "code",
   "execution_count": null,
   "metadata": {},
   "outputs": [],
   "source": [
    "df.head(10)"
   ]
  },
  {
   "cell_type": "code",
   "execution_count": null,
   "metadata": {},
   "outputs": [],
   "source": [
    "resultado = df[df['manager_id'].notnull()]"
   ]
  },
  {
   "cell_type": "code",
   "execution_count": null,
   "metadata": {},
   "outputs": [],
   "source": [
    "resultado"
   ]
  },
  {
   "cell_type": "code",
   "execution_count": null,
   "metadata": {},
   "outputs": [],
   "source": [
    "len(df)"
   ]
  },
  {
   "cell_type": "code",
   "execution_count": null,
   "metadata": {},
   "outputs": [],
   "source": [
    "len(resultado)"
   ]
  },
  {
   "cell_type": "markdown",
   "metadata": {},
   "source": [
    "# Ejercicio 193\n",
    "\n",
    "Determinar si una ubicación no se le ha asignado un estado/departamento.\n",
    "\n",
    "## Solución:"
   ]
  },
  {
   "cell_type": "code",
   "execution_count": null,
   "metadata": {},
   "outputs": [],
   "source": [
    "import pandas as pd"
   ]
  },
  {
   "cell_type": "code",
   "execution_count": null,
   "metadata": {},
   "outputs": [],
   "source": [
    "nombre_archivo = 'locations.csv'\n",
    "\n",
    "df = pd.read_csv(nombre_archivo)"
   ]
  },
  {
   "cell_type": "code",
   "execution_count": null,
   "metadata": {},
   "outputs": [],
   "source": [
    "df.head(7)"
   ]
  },
  {
   "cell_type": "code",
   "execution_count": null,
   "metadata": {},
   "outputs": [],
   "source": [
    "df['state_province_available'] = df.state_province.notnull()"
   ]
  },
  {
   "cell_type": "code",
   "execution_count": null,
   "metadata": {},
   "outputs": [],
   "source": [
    "df.head(7)"
   ]
  },
  {
   "cell_type": "markdown",
   "metadata": {},
   "source": [
    "# Ejercicio 194\n",
    "\n",
    "Consultar la cantidad de datos faltantes (nulos) por columna del dataset de ubicaciones.\n",
    "\n",
    "## Solución:"
   ]
  },
  {
   "cell_type": "code",
   "execution_count": null,
   "metadata": {},
   "outputs": [],
   "source": [
    "import pandas as pd"
   ]
  },
  {
   "cell_type": "code",
   "execution_count": null,
   "metadata": {},
   "outputs": [],
   "source": [
    "nombre_archivo = 'locations.csv'\n",
    "\n",
    "df = pd.read_csv(nombre_archivo)"
   ]
  },
  {
   "cell_type": "code",
   "execution_count": null,
   "metadata": {},
   "outputs": [],
   "source": [
    "df.head(7)"
   ]
  },
  {
   "cell_type": "code",
   "execution_count": null,
   "metadata": {},
   "outputs": [],
   "source": [
    "df.isna()"
   ]
  },
  {
   "cell_type": "code",
   "execution_count": null,
   "metadata": {},
   "outputs": [],
   "source": [
    "df.isna().sum()"
   ]
  },
  {
   "cell_type": "markdown",
   "metadata": {},
   "source": [
    "# Ejercicio 195\n",
    "\n",
    "Encontrar los empleados cuyo nombre termina en la letra a.\n",
    "\n",
    "## Solución:"
   ]
  },
  {
   "cell_type": "code",
   "execution_count": null,
   "metadata": {},
   "outputs": [],
   "source": [
    "import pandas as pd"
   ]
  },
  {
   "cell_type": "code",
   "execution_count": null,
   "metadata": {},
   "outputs": [],
   "source": [
    "nombre_archivo = 'employees.csv'\n",
    "\n",
    "df = pd.read_csv(nombre_archivo)"
   ]
  },
  {
   "cell_type": "code",
   "execution_count": null,
   "metadata": {},
   "outputs": [],
   "source": [
    "df.head(7)"
   ]
  },
  {
   "cell_type": "code",
   "execution_count": null,
   "metadata": {},
   "outputs": [],
   "source": [
    "resultado = df[df['first_name'].str[-1] == 'a']"
   ]
  },
  {
   "cell_type": "code",
   "execution_count": null,
   "metadata": {},
   "outputs": [],
   "source": [
    "resultado"
   ]
  },
  {
   "cell_type": "code",
   "execution_count": null,
   "metadata": {},
   "outputs": [],
   "source": [
    "len(resultado)"
   ]
  },
  {
   "cell_type": "code",
   "execution_count": null,
   "metadata": {},
   "outputs": [],
   "source": [
    "resultado.shape[0]"
   ]
  },
  {
   "cell_type": "markdown",
   "metadata": {},
   "source": [
    "# Ejercicio 196\n",
    "\n",
    "Obtener empleados cuyo nombre empiece ya sea por _a_, _l_ o _r_. Ordenar por ID de departamento.\n",
    "\n",
    "## Solución."
   ]
  },
  {
   "cell_type": "code",
   "execution_count": null,
   "metadata": {},
   "outputs": [],
   "source": [
    "import pandas as pd"
   ]
  },
  {
   "cell_type": "code",
   "execution_count": null,
   "metadata": {},
   "outputs": [],
   "source": [
    "nombre_archivo = 'employees.csv'\n",
    "\n",
    "df = pd.read_csv(nombre_archivo)"
   ]
  },
  {
   "cell_type": "code",
   "execution_count": null,
   "metadata": {},
   "outputs": [],
   "source": [
    "df.head(7)"
   ]
  },
  {
   "cell_type": "code",
   "execution_count": null,
   "metadata": {},
   "outputs": [],
   "source": [
    "resultado = df[df['first_name'].str[-1].isin(['a', 'l', 'r'])]\n",
    "\n",
    "resultado"
   ]
  },
  {
   "cell_type": "code",
   "execution_count": null,
   "metadata": {},
   "outputs": [],
   "source": [
    "resultado = resultado.sort_values('department_id', ascending=False)\n",
    "\n",
    "resultado.head(10)"
   ]
  },
  {
   "cell_type": "markdown",
   "metadata": {},
   "source": [
    "# Ejercicio 197\n",
    "\n",
    "Obtener los empleados que pertenezcan ya sea a los departamentos con ID 80 ó 30.\n",
    "\n",
    "## Solución:"
   ]
  },
  {
   "cell_type": "code",
   "execution_count": null,
   "metadata": {},
   "outputs": [],
   "source": [
    "import pandas as pd"
   ]
  },
  {
   "cell_type": "code",
   "execution_count": null,
   "metadata": {},
   "outputs": [],
   "source": [
    "nombre_archivo = 'employees.csv'\n",
    "\n",
    "df = pd.read_csv(nombre_archivo)"
   ]
  },
  {
   "cell_type": "code",
   "execution_count": null,
   "metadata": {},
   "outputs": [],
   "source": [
    "df.head(7)"
   ]
  },
  {
   "cell_type": "code",
   "execution_count": null,
   "metadata": {},
   "outputs": [],
   "source": [
    "resultado = df[df['department_id'].isin([80, 30])]"
   ]
  },
  {
   "cell_type": "code",
   "execution_count": null,
   "metadata": {},
   "outputs": [],
   "source": [
    "len(df)"
   ]
  },
  {
   "cell_type": "code",
   "execution_count": null,
   "metadata": {},
   "outputs": [],
   "source": [
    "len(resultado)"
   ]
  },
  {
   "cell_type": "code",
   "execution_count": null,
   "metadata": {},
   "outputs": [],
   "source": [
    "for index, f in resultado.iterrows():\n",
    "    print(f['first_name'].ljust(15), f['last_name'].ljust(15), f['department_id'])"
   ]
  },
  {
   "cell_type": "markdown",
   "metadata": {},
   "source": [
    "# Ejercicio 198\n",
    "\n",
    "Obtener empleados cuyo jefe tenga como ID 100, 124, o 149.\n",
    "\n",
    "## Solución:"
   ]
  },
  {
   "cell_type": "code",
   "execution_count": null,
   "metadata": {},
   "outputs": [],
   "source": [
    "import pandas as pd"
   ]
  },
  {
   "cell_type": "code",
   "execution_count": null,
   "metadata": {},
   "outputs": [],
   "source": [
    "nombre_archivo = 'employees.csv'\n",
    "\n",
    "df = pd.read_csv(nombre_archivo)"
   ]
  },
  {
   "cell_type": "code",
   "execution_count": null,
   "metadata": {},
   "outputs": [],
   "source": [
    "df.head(7)"
   ]
  },
  {
   "cell_type": "code",
   "execution_count": null,
   "metadata": {},
   "outputs": [],
   "source": [
    "resultado = df[df['manager_id'].isin([100, 124, 149])]\n",
    "\n",
    "resultado.head(10)"
   ]
  },
  {
   "cell_type": "code",
   "execution_count": null,
   "metadata": {},
   "outputs": [],
   "source": [
    "for i, f in resultado.iterrows():\n",
    "    print(f['first_name'].ljust(15), f['last_name'].ljust(15), f['manager_id'])"
   ]
  },
  {
   "cell_type": "markdown",
   "metadata": {},
   "source": [
    "# Ejercicio 199\n",
    "\n",
    "Encontrar aquellos empleados que en su nombre la tercera letra es una _r_.\n",
    "\n",
    "## Solución:"
   ]
  },
  {
   "cell_type": "code",
   "execution_count": null,
   "metadata": {},
   "outputs": [],
   "source": [
    "import pandas as pd"
   ]
  },
  {
   "cell_type": "code",
   "execution_count": null,
   "metadata": {},
   "outputs": [],
   "source": [
    "nombre_archivo = 'employees.csv'\n",
    "\n",
    "df = pd.read_csv(nombre_archivo)"
   ]
  },
  {
   "cell_type": "code",
   "execution_count": null,
   "metadata": {},
   "outputs": [],
   "source": [
    "df.head(7)"
   ]
  },
  {
   "cell_type": "code",
   "execution_count": null,
   "metadata": {},
   "outputs": [],
   "source": [
    "resultado = df[df['first_name'].str[2:3] == 'r']\n",
    "\n",
    "resultado"
   ]
  },
  {
   "cell_type": "code",
   "execution_count": null,
   "metadata": {},
   "outputs": [],
   "source": [
    "for i, f in resultado.iterrows():\n",
    "    print(f['first_name'].ljust(15), f['phone_number'].ljust(15))"
   ]
  },
  {
   "cell_type": "markdown",
   "metadata": {},
   "source": [
    "# Ejercicio 200\n",
    "\n",
    "Obtener los empleados que **no** pertenezcan a los departamentos con ID 80 ó 30.\n",
    "\n",
    "## Solución:"
   ]
  },
  {
   "cell_type": "code",
   "execution_count": 70,
   "metadata": {},
   "outputs": [],
   "source": [
    "import pandas as pd"
   ]
  },
  {
   "cell_type": "code",
   "execution_count": 71,
   "metadata": {},
   "outputs": [],
   "source": [
    "nombre_archivo = 'employees.csv'\n",
    "\n",
    "df = pd.read_csv(nombre_archivo)"
   ]
  },
  {
   "cell_type": "code",
   "execution_count": 72,
   "metadata": {},
   "outputs": [
    {
     "data": {
      "text/html": [
       "<div>\n",
       "<style scoped>\n",
       "    .dataframe tbody tr th:only-of-type {\n",
       "        vertical-align: middle;\n",
       "    }\n",
       "\n",
       "    .dataframe tbody tr th {\n",
       "        vertical-align: top;\n",
       "    }\n",
       "\n",
       "    .dataframe thead th {\n",
       "        text-align: right;\n",
       "    }\n",
       "</style>\n",
       "<table border=\"1\" class=\"dataframe\">\n",
       "  <thead>\n",
       "    <tr style=\"text-align: right;\">\n",
       "      <th></th>\n",
       "      <th>employ_id</th>\n",
       "      <th>first_name</th>\n",
       "      <th>last_name</th>\n",
       "      <th>email</th>\n",
       "      <th>phone_number</th>\n",
       "      <th>hire_date</th>\n",
       "      <th>job_id</th>\n",
       "      <th>salary</th>\n",
       "      <th>commission_pct</th>\n",
       "      <th>manager_id</th>\n",
       "      <th>department_id</th>\n",
       "    </tr>\n",
       "  </thead>\n",
       "  <tbody>\n",
       "    <tr>\n",
       "      <th>0</th>\n",
       "      <td>100</td>\n",
       "      <td>Steven</td>\n",
       "      <td>King</td>\n",
       "      <td>SKING</td>\n",
       "      <td>515.123.4567</td>\n",
       "      <td>1987-06-17</td>\n",
       "      <td>AD_PRES</td>\n",
       "      <td>24000</td>\n",
       "      <td>NaN</td>\n",
       "      <td>NaN</td>\n",
       "      <td>90.0</td>\n",
       "    </tr>\n",
       "    <tr>\n",
       "      <th>1</th>\n",
       "      <td>101</td>\n",
       "      <td>Neena</td>\n",
       "      <td>Kochhar</td>\n",
       "      <td>NKOCHHAR</td>\n",
       "      <td>515.123.4568</td>\n",
       "      <td>1987-06-18</td>\n",
       "      <td>AD_VP</td>\n",
       "      <td>17000</td>\n",
       "      <td>NaN</td>\n",
       "      <td>100.0</td>\n",
       "      <td>90.0</td>\n",
       "    </tr>\n",
       "    <tr>\n",
       "      <th>2</th>\n",
       "      <td>102</td>\n",
       "      <td>Lex</td>\n",
       "      <td>De Haan</td>\n",
       "      <td>LDEHAAN</td>\n",
       "      <td>515.123.4569</td>\n",
       "      <td>1987-06-19</td>\n",
       "      <td>AD_VP</td>\n",
       "      <td>17000</td>\n",
       "      <td>NaN</td>\n",
       "      <td>100.0</td>\n",
       "      <td>90.0</td>\n",
       "    </tr>\n",
       "    <tr>\n",
       "      <th>3</th>\n",
       "      <td>103</td>\n",
       "      <td>Alexander</td>\n",
       "      <td>Hunold</td>\n",
       "      <td>AHUNOLD</td>\n",
       "      <td>590.423.4567</td>\n",
       "      <td>1987-06-20</td>\n",
       "      <td>IT_PROG</td>\n",
       "      <td>9000</td>\n",
       "      <td>NaN</td>\n",
       "      <td>102.0</td>\n",
       "      <td>60.0</td>\n",
       "    </tr>\n",
       "    <tr>\n",
       "      <th>4</th>\n",
       "      <td>104</td>\n",
       "      <td>Bruce</td>\n",
       "      <td>Ernst</td>\n",
       "      <td>BERNST</td>\n",
       "      <td>590.423.4568</td>\n",
       "      <td>1987-06-21</td>\n",
       "      <td>IT_PROG</td>\n",
       "      <td>6000</td>\n",
       "      <td>NaN</td>\n",
       "      <td>103.0</td>\n",
       "      <td>60.0</td>\n",
       "    </tr>\n",
       "    <tr>\n",
       "      <th>5</th>\n",
       "      <td>105</td>\n",
       "      <td>David</td>\n",
       "      <td>Austin</td>\n",
       "      <td>DAUSTIN</td>\n",
       "      <td>590.423.4569</td>\n",
       "      <td>1987-06-22</td>\n",
       "      <td>IT_PROG</td>\n",
       "      <td>4800</td>\n",
       "      <td>NaN</td>\n",
       "      <td>103.0</td>\n",
       "      <td>60.0</td>\n",
       "    </tr>\n",
       "    <tr>\n",
       "      <th>6</th>\n",
       "      <td>106</td>\n",
       "      <td>Valli</td>\n",
       "      <td>Pataballa</td>\n",
       "      <td>VPATABAL</td>\n",
       "      <td>590.423.4560</td>\n",
       "      <td>1987-06-23</td>\n",
       "      <td>IT_PROG</td>\n",
       "      <td>4800</td>\n",
       "      <td>NaN</td>\n",
       "      <td>103.0</td>\n",
       "      <td>60.0</td>\n",
       "    </tr>\n",
       "  </tbody>\n",
       "</table>\n",
       "</div>"
      ],
      "text/plain": [
       "   employ_id first_name  last_name     email  phone_number   hire_date  \\\n",
       "0        100     Steven       King     SKING  515.123.4567  1987-06-17   \n",
       "1        101      Neena    Kochhar  NKOCHHAR  515.123.4568  1987-06-18   \n",
       "2        102        Lex    De Haan   LDEHAAN  515.123.4569  1987-06-19   \n",
       "3        103  Alexander     Hunold   AHUNOLD  590.423.4567  1987-06-20   \n",
       "4        104      Bruce      Ernst    BERNST  590.423.4568  1987-06-21   \n",
       "5        105      David     Austin   DAUSTIN  590.423.4569  1987-06-22   \n",
       "6        106      Valli  Pataballa  VPATABAL  590.423.4560  1987-06-23   \n",
       "\n",
       "    job_id  salary  commission_pct  manager_id  department_id  \n",
       "0  AD_PRES   24000             NaN         NaN           90.0  \n",
       "1    AD_VP   17000             NaN       100.0           90.0  \n",
       "2    AD_VP   17000             NaN       100.0           90.0  \n",
       "3  IT_PROG    9000             NaN       102.0           60.0  \n",
       "4  IT_PROG    6000             NaN       103.0           60.0  \n",
       "5  IT_PROG    4800             NaN       103.0           60.0  \n",
       "6  IT_PROG    4800             NaN       103.0           60.0  "
      ]
     },
     "execution_count": 72,
     "metadata": {},
     "output_type": "execute_result"
    }
   ],
   "source": [
    "df.head(7)"
   ]
  },
  {
   "cell_type": "code",
   "execution_count": 73,
   "metadata": {},
   "outputs": [
    {
     "data": {
      "text/html": [
       "<div>\n",
       "<style scoped>\n",
       "    .dataframe tbody tr th:only-of-type {\n",
       "        vertical-align: middle;\n",
       "    }\n",
       "\n",
       "    .dataframe tbody tr th {\n",
       "        vertical-align: top;\n",
       "    }\n",
       "\n",
       "    .dataframe thead th {\n",
       "        text-align: right;\n",
       "    }\n",
       "</style>\n",
       "<table border=\"1\" class=\"dataframe\">\n",
       "  <thead>\n",
       "    <tr style=\"text-align: right;\">\n",
       "      <th></th>\n",
       "      <th>employ_id</th>\n",
       "      <th>first_name</th>\n",
       "      <th>last_name</th>\n",
       "      <th>email</th>\n",
       "      <th>phone_number</th>\n",
       "      <th>hire_date</th>\n",
       "      <th>job_id</th>\n",
       "      <th>salary</th>\n",
       "      <th>commission_pct</th>\n",
       "      <th>manager_id</th>\n",
       "      <th>department_id</th>\n",
       "    </tr>\n",
       "  </thead>\n",
       "  <tbody>\n",
       "    <tr>\n",
       "      <th>0</th>\n",
       "      <td>100</td>\n",
       "      <td>Steven</td>\n",
       "      <td>King</td>\n",
       "      <td>SKING</td>\n",
       "      <td>515.123.4567</td>\n",
       "      <td>1987-06-17</td>\n",
       "      <td>AD_PRES</td>\n",
       "      <td>24000</td>\n",
       "      <td>NaN</td>\n",
       "      <td>NaN</td>\n",
       "      <td>90.0</td>\n",
       "    </tr>\n",
       "    <tr>\n",
       "      <th>1</th>\n",
       "      <td>101</td>\n",
       "      <td>Neena</td>\n",
       "      <td>Kochhar</td>\n",
       "      <td>NKOCHHAR</td>\n",
       "      <td>515.123.4568</td>\n",
       "      <td>1987-06-18</td>\n",
       "      <td>AD_VP</td>\n",
       "      <td>17000</td>\n",
       "      <td>NaN</td>\n",
       "      <td>100.0</td>\n",
       "      <td>90.0</td>\n",
       "    </tr>\n",
       "    <tr>\n",
       "      <th>2</th>\n",
       "      <td>102</td>\n",
       "      <td>Lex</td>\n",
       "      <td>De Haan</td>\n",
       "      <td>LDEHAAN</td>\n",
       "      <td>515.123.4569</td>\n",
       "      <td>1987-06-19</td>\n",
       "      <td>AD_VP</td>\n",
       "      <td>17000</td>\n",
       "      <td>NaN</td>\n",
       "      <td>100.0</td>\n",
       "      <td>90.0</td>\n",
       "    </tr>\n",
       "    <tr>\n",
       "      <th>3</th>\n",
       "      <td>103</td>\n",
       "      <td>Alexander</td>\n",
       "      <td>Hunold</td>\n",
       "      <td>AHUNOLD</td>\n",
       "      <td>590.423.4567</td>\n",
       "      <td>1987-06-20</td>\n",
       "      <td>IT_PROG</td>\n",
       "      <td>9000</td>\n",
       "      <td>NaN</td>\n",
       "      <td>102.0</td>\n",
       "      <td>60.0</td>\n",
       "    </tr>\n",
       "    <tr>\n",
       "      <th>4</th>\n",
       "      <td>104</td>\n",
       "      <td>Bruce</td>\n",
       "      <td>Ernst</td>\n",
       "      <td>BERNST</td>\n",
       "      <td>590.423.4568</td>\n",
       "      <td>1987-06-21</td>\n",
       "      <td>IT_PROG</td>\n",
       "      <td>6000</td>\n",
       "      <td>NaN</td>\n",
       "      <td>103.0</td>\n",
       "      <td>60.0</td>\n",
       "    </tr>\n",
       "    <tr>\n",
       "      <th>5</th>\n",
       "      <td>105</td>\n",
       "      <td>David</td>\n",
       "      <td>Austin</td>\n",
       "      <td>DAUSTIN</td>\n",
       "      <td>590.423.4569</td>\n",
       "      <td>1987-06-22</td>\n",
       "      <td>IT_PROG</td>\n",
       "      <td>4800</td>\n",
       "      <td>NaN</td>\n",
       "      <td>103.0</td>\n",
       "      <td>60.0</td>\n",
       "    </tr>\n",
       "    <tr>\n",
       "      <th>6</th>\n",
       "      <td>106</td>\n",
       "      <td>Valli</td>\n",
       "      <td>Pataballa</td>\n",
       "      <td>VPATABAL</td>\n",
       "      <td>590.423.4560</td>\n",
       "      <td>1987-06-23</td>\n",
       "      <td>IT_PROG</td>\n",
       "      <td>4800</td>\n",
       "      <td>NaN</td>\n",
       "      <td>103.0</td>\n",
       "      <td>60.0</td>\n",
       "    </tr>\n",
       "    <tr>\n",
       "      <th>7</th>\n",
       "      <td>107</td>\n",
       "      <td>Diana</td>\n",
       "      <td>Lorentz</td>\n",
       "      <td>DLORENTZ</td>\n",
       "      <td>590.423.5567</td>\n",
       "      <td>1987-06-24</td>\n",
       "      <td>IT_PROG</td>\n",
       "      <td>4200</td>\n",
       "      <td>NaN</td>\n",
       "      <td>103.0</td>\n",
       "      <td>60.0</td>\n",
       "    </tr>\n",
       "    <tr>\n",
       "      <th>8</th>\n",
       "      <td>108</td>\n",
       "      <td>Nancy</td>\n",
       "      <td>Greenberg</td>\n",
       "      <td>NGREENBE</td>\n",
       "      <td>515.124.4569</td>\n",
       "      <td>1987-06-25</td>\n",
       "      <td>FI_MGR</td>\n",
       "      <td>12000</td>\n",
       "      <td>NaN</td>\n",
       "      <td>101.0</td>\n",
       "      <td>100.0</td>\n",
       "    </tr>\n",
       "    <tr>\n",
       "      <th>9</th>\n",
       "      <td>109</td>\n",
       "      <td>Daniel</td>\n",
       "      <td>Faviet</td>\n",
       "      <td>DFAVIET</td>\n",
       "      <td>515.124.4169</td>\n",
       "      <td>1987-06-26</td>\n",
       "      <td>FI_ACCOUNT</td>\n",
       "      <td>9000</td>\n",
       "      <td>NaN</td>\n",
       "      <td>108.0</td>\n",
       "      <td>100.0</td>\n",
       "    </tr>\n",
       "  </tbody>\n",
       "</table>\n",
       "</div>"
      ],
      "text/plain": [
       "   employ_id first_name  last_name     email  phone_number   hire_date  \\\n",
       "0        100     Steven       King     SKING  515.123.4567  1987-06-17   \n",
       "1        101      Neena    Kochhar  NKOCHHAR  515.123.4568  1987-06-18   \n",
       "2        102        Lex    De Haan   LDEHAAN  515.123.4569  1987-06-19   \n",
       "3        103  Alexander     Hunold   AHUNOLD  590.423.4567  1987-06-20   \n",
       "4        104      Bruce      Ernst    BERNST  590.423.4568  1987-06-21   \n",
       "5        105      David     Austin   DAUSTIN  590.423.4569  1987-06-22   \n",
       "6        106      Valli  Pataballa  VPATABAL  590.423.4560  1987-06-23   \n",
       "7        107      Diana    Lorentz  DLORENTZ  590.423.5567  1987-06-24   \n",
       "8        108      Nancy  Greenberg  NGREENBE  515.124.4569  1987-06-25   \n",
       "9        109     Daniel     Faviet   DFAVIET  515.124.4169  1987-06-26   \n",
       "\n",
       "       job_id  salary  commission_pct  manager_id  department_id  \n",
       "0     AD_PRES   24000             NaN         NaN           90.0  \n",
       "1       AD_VP   17000             NaN       100.0           90.0  \n",
       "2       AD_VP   17000             NaN       100.0           90.0  \n",
       "3     IT_PROG    9000             NaN       102.0           60.0  \n",
       "4     IT_PROG    6000             NaN       103.0           60.0  \n",
       "5     IT_PROG    4800             NaN       103.0           60.0  \n",
       "6     IT_PROG    4800             NaN       103.0           60.0  \n",
       "7     IT_PROG    4200             NaN       103.0           60.0  \n",
       "8      FI_MGR   12000             NaN       101.0          100.0  \n",
       "9  FI_ACCOUNT    9000             NaN       108.0          100.0  "
      ]
     },
     "execution_count": 73,
     "metadata": {},
     "output_type": "execute_result"
    }
   ],
   "source": [
    "resultado = df[~df['department_id'].isin([30, 80])]\n",
    "\n",
    "resultado.head(10)"
   ]
  },
  {
   "cell_type": "code",
   "execution_count": 74,
   "metadata": {
    "scrolled": false
   },
   "outputs": [
    {
     "data": {
      "text/html": [
       "<div>\n",
       "<style scoped>\n",
       "    .dataframe tbody tr th:only-of-type {\n",
       "        vertical-align: middle;\n",
       "    }\n",
       "\n",
       "    .dataframe tbody tr th {\n",
       "        vertical-align: top;\n",
       "    }\n",
       "\n",
       "    .dataframe thead th {\n",
       "        text-align: right;\n",
       "    }\n",
       "</style>\n",
       "<table border=\"1\" class=\"dataframe\">\n",
       "  <thead>\n",
       "    <tr style=\"text-align: right;\">\n",
       "      <th></th>\n",
       "      <th>employ_id</th>\n",
       "      <th>first_name</th>\n",
       "      <th>last_name</th>\n",
       "      <th>email</th>\n",
       "      <th>phone_number</th>\n",
       "      <th>hire_date</th>\n",
       "      <th>job_id</th>\n",
       "      <th>salary</th>\n",
       "      <th>commission_pct</th>\n",
       "      <th>manager_id</th>\n",
       "      <th>department_id</th>\n",
       "    </tr>\n",
       "  </thead>\n",
       "  <tbody>\n",
       "    <tr>\n",
       "      <th>0</th>\n",
       "      <td>100</td>\n",
       "      <td>Steven</td>\n",
       "      <td>King</td>\n",
       "      <td>SKING</td>\n",
       "      <td>515.123.4567</td>\n",
       "      <td>1987-06-17</td>\n",
       "      <td>AD_PRES</td>\n",
       "      <td>24000</td>\n",
       "      <td>NaN</td>\n",
       "      <td>NaN</td>\n",
       "      <td>90.0</td>\n",
       "    </tr>\n",
       "    <tr>\n",
       "      <th>1</th>\n",
       "      <td>101</td>\n",
       "      <td>Neena</td>\n",
       "      <td>Kochhar</td>\n",
       "      <td>NKOCHHAR</td>\n",
       "      <td>515.123.4568</td>\n",
       "      <td>1987-06-18</td>\n",
       "      <td>AD_VP</td>\n",
       "      <td>17000</td>\n",
       "      <td>NaN</td>\n",
       "      <td>100.0</td>\n",
       "      <td>90.0</td>\n",
       "    </tr>\n",
       "    <tr>\n",
       "      <th>2</th>\n",
       "      <td>102</td>\n",
       "      <td>Lex</td>\n",
       "      <td>De Haan</td>\n",
       "      <td>LDEHAAN</td>\n",
       "      <td>515.123.4569</td>\n",
       "      <td>1987-06-19</td>\n",
       "      <td>AD_VP</td>\n",
       "      <td>17000</td>\n",
       "      <td>NaN</td>\n",
       "      <td>100.0</td>\n",
       "      <td>90.0</td>\n",
       "    </tr>\n",
       "    <tr>\n",
       "      <th>3</th>\n",
       "      <td>103</td>\n",
       "      <td>Alexander</td>\n",
       "      <td>Hunold</td>\n",
       "      <td>AHUNOLD</td>\n",
       "      <td>590.423.4567</td>\n",
       "      <td>1987-06-20</td>\n",
       "      <td>IT_PROG</td>\n",
       "      <td>9000</td>\n",
       "      <td>NaN</td>\n",
       "      <td>102.0</td>\n",
       "      <td>60.0</td>\n",
       "    </tr>\n",
       "    <tr>\n",
       "      <th>4</th>\n",
       "      <td>104</td>\n",
       "      <td>Bruce</td>\n",
       "      <td>Ernst</td>\n",
       "      <td>BERNST</td>\n",
       "      <td>590.423.4568</td>\n",
       "      <td>1987-06-21</td>\n",
       "      <td>IT_PROG</td>\n",
       "      <td>6000</td>\n",
       "      <td>NaN</td>\n",
       "      <td>103.0</td>\n",
       "      <td>60.0</td>\n",
       "    </tr>\n",
       "    <tr>\n",
       "      <th>5</th>\n",
       "      <td>105</td>\n",
       "      <td>David</td>\n",
       "      <td>Austin</td>\n",
       "      <td>DAUSTIN</td>\n",
       "      <td>590.423.4569</td>\n",
       "      <td>1987-06-22</td>\n",
       "      <td>IT_PROG</td>\n",
       "      <td>4800</td>\n",
       "      <td>NaN</td>\n",
       "      <td>103.0</td>\n",
       "      <td>60.0</td>\n",
       "    </tr>\n",
       "    <tr>\n",
       "      <th>6</th>\n",
       "      <td>106</td>\n",
       "      <td>Valli</td>\n",
       "      <td>Pataballa</td>\n",
       "      <td>VPATABAL</td>\n",
       "      <td>590.423.4560</td>\n",
       "      <td>1987-06-23</td>\n",
       "      <td>IT_PROG</td>\n",
       "      <td>4800</td>\n",
       "      <td>NaN</td>\n",
       "      <td>103.0</td>\n",
       "      <td>60.0</td>\n",
       "    </tr>\n",
       "    <tr>\n",
       "      <th>7</th>\n",
       "      <td>107</td>\n",
       "      <td>Diana</td>\n",
       "      <td>Lorentz</td>\n",
       "      <td>DLORENTZ</td>\n",
       "      <td>590.423.5567</td>\n",
       "      <td>1987-06-24</td>\n",
       "      <td>IT_PROG</td>\n",
       "      <td>4200</td>\n",
       "      <td>NaN</td>\n",
       "      <td>103.0</td>\n",
       "      <td>60.0</td>\n",
       "    </tr>\n",
       "    <tr>\n",
       "      <th>8</th>\n",
       "      <td>108</td>\n",
       "      <td>Nancy</td>\n",
       "      <td>Greenberg</td>\n",
       "      <td>NGREENBE</td>\n",
       "      <td>515.124.4569</td>\n",
       "      <td>1987-06-25</td>\n",
       "      <td>FI_MGR</td>\n",
       "      <td>12000</td>\n",
       "      <td>NaN</td>\n",
       "      <td>101.0</td>\n",
       "      <td>100.0</td>\n",
       "    </tr>\n",
       "    <tr>\n",
       "      <th>9</th>\n",
       "      <td>109</td>\n",
       "      <td>Daniel</td>\n",
       "      <td>Faviet</td>\n",
       "      <td>DFAVIET</td>\n",
       "      <td>515.124.4169</td>\n",
       "      <td>1987-06-26</td>\n",
       "      <td>FI_ACCOUNT</td>\n",
       "      <td>9000</td>\n",
       "      <td>NaN</td>\n",
       "      <td>108.0</td>\n",
       "      <td>100.0</td>\n",
       "    </tr>\n",
       "    <tr>\n",
       "      <th>10</th>\n",
       "      <td>110</td>\n",
       "      <td>John</td>\n",
       "      <td>Chen</td>\n",
       "      <td>JCHEN</td>\n",
       "      <td>515.124.4269</td>\n",
       "      <td>1987-06-27</td>\n",
       "      <td>FI_ACCOUNT</td>\n",
       "      <td>8200</td>\n",
       "      <td>NaN</td>\n",
       "      <td>108.0</td>\n",
       "      <td>100.0</td>\n",
       "    </tr>\n",
       "    <tr>\n",
       "      <th>11</th>\n",
       "      <td>111</td>\n",
       "      <td>Ismael</td>\n",
       "      <td>Sciarra</td>\n",
       "      <td>ISCIARRA</td>\n",
       "      <td>515.124.4369</td>\n",
       "      <td>1987-06-28</td>\n",
       "      <td>FI_ACCOUNT</td>\n",
       "      <td>7700</td>\n",
       "      <td>NaN</td>\n",
       "      <td>108.0</td>\n",
       "      <td>100.0</td>\n",
       "    </tr>\n",
       "    <tr>\n",
       "      <th>12</th>\n",
       "      <td>112</td>\n",
       "      <td>Jose Manuel</td>\n",
       "      <td>Urman</td>\n",
       "      <td>JMURMAN</td>\n",
       "      <td>515.124.4469</td>\n",
       "      <td>1987-06-29</td>\n",
       "      <td>FI_ACCOUNT</td>\n",
       "      <td>7800</td>\n",
       "      <td>NaN</td>\n",
       "      <td>108.0</td>\n",
       "      <td>100.0</td>\n",
       "    </tr>\n",
       "    <tr>\n",
       "      <th>13</th>\n",
       "      <td>113</td>\n",
       "      <td>Luis</td>\n",
       "      <td>Popp</td>\n",
       "      <td>LPOPP</td>\n",
       "      <td>515.124.4567</td>\n",
       "      <td>1987-06-30</td>\n",
       "      <td>FI_ACCOUNT</td>\n",
       "      <td>6900</td>\n",
       "      <td>NaN</td>\n",
       "      <td>108.0</td>\n",
       "      <td>100.0</td>\n",
       "    </tr>\n",
       "    <tr>\n",
       "      <th>20</th>\n",
       "      <td>120</td>\n",
       "      <td>Matthew</td>\n",
       "      <td>Weiss</td>\n",
       "      <td>MWEISS</td>\n",
       "      <td>650.123.1234</td>\n",
       "      <td>1987-07-07</td>\n",
       "      <td>ST_MAN</td>\n",
       "      <td>8000</td>\n",
       "      <td>NaN</td>\n",
       "      <td>100.0</td>\n",
       "      <td>50.0</td>\n",
       "    </tr>\n",
       "    <tr>\n",
       "      <th>21</th>\n",
       "      <td>121</td>\n",
       "      <td>Adam</td>\n",
       "      <td>Fripp</td>\n",
       "      <td>AFRIPP</td>\n",
       "      <td>650.123.2234</td>\n",
       "      <td>1987-07-08</td>\n",
       "      <td>ST_MAN</td>\n",
       "      <td>8200</td>\n",
       "      <td>NaN</td>\n",
       "      <td>100.0</td>\n",
       "      <td>50.0</td>\n",
       "    </tr>\n",
       "    <tr>\n",
       "      <th>22</th>\n",
       "      <td>122</td>\n",
       "      <td>Payam</td>\n",
       "      <td>Kaufling</td>\n",
       "      <td>PKAUFLIN</td>\n",
       "      <td>650.123.3234</td>\n",
       "      <td>1987-07-09</td>\n",
       "      <td>ST_MAN</td>\n",
       "      <td>7900</td>\n",
       "      <td>NaN</td>\n",
       "      <td>100.0</td>\n",
       "      <td>50.0</td>\n",
       "    </tr>\n",
       "    <tr>\n",
       "      <th>23</th>\n",
       "      <td>123</td>\n",
       "      <td>Shanta</td>\n",
       "      <td>Vollman</td>\n",
       "      <td>SVOLLMAN</td>\n",
       "      <td>650.123.4234</td>\n",
       "      <td>1987-07-10</td>\n",
       "      <td>ST_MAN</td>\n",
       "      <td>6500</td>\n",
       "      <td>NaN</td>\n",
       "      <td>100.0</td>\n",
       "      <td>50.0</td>\n",
       "    </tr>\n",
       "    <tr>\n",
       "      <th>24</th>\n",
       "      <td>124</td>\n",
       "      <td>Kevin</td>\n",
       "      <td>Mourgos</td>\n",
       "      <td>KMOURGOS</td>\n",
       "      <td>650.123.5234</td>\n",
       "      <td>1987-07-11</td>\n",
       "      <td>ST_MAN</td>\n",
       "      <td>5800</td>\n",
       "      <td>NaN</td>\n",
       "      <td>100.0</td>\n",
       "      <td>50.0</td>\n",
       "    </tr>\n",
       "    <tr>\n",
       "      <th>25</th>\n",
       "      <td>125</td>\n",
       "      <td>Julia</td>\n",
       "      <td>Nayer</td>\n",
       "      <td>JNAYER</td>\n",
       "      <td>650.124.1214</td>\n",
       "      <td>1987-07-12</td>\n",
       "      <td>ST_CLERK</td>\n",
       "      <td>3200</td>\n",
       "      <td>NaN</td>\n",
       "      <td>120.0</td>\n",
       "      <td>50.0</td>\n",
       "    </tr>\n",
       "    <tr>\n",
       "      <th>26</th>\n",
       "      <td>126</td>\n",
       "      <td>Irene</td>\n",
       "      <td>Mikkilineni</td>\n",
       "      <td>IMIKKILI</td>\n",
       "      <td>650.124.1224</td>\n",
       "      <td>1987-07-13</td>\n",
       "      <td>ST_CLERK</td>\n",
       "      <td>2700</td>\n",
       "      <td>NaN</td>\n",
       "      <td>120.0</td>\n",
       "      <td>50.0</td>\n",
       "    </tr>\n",
       "    <tr>\n",
       "      <th>27</th>\n",
       "      <td>127</td>\n",
       "      <td>James</td>\n",
       "      <td>Landry</td>\n",
       "      <td>JLANDRY</td>\n",
       "      <td>650.124.1334</td>\n",
       "      <td>1987-07-14</td>\n",
       "      <td>ST_CLERK</td>\n",
       "      <td>2400</td>\n",
       "      <td>NaN</td>\n",
       "      <td>120.0</td>\n",
       "      <td>50.0</td>\n",
       "    </tr>\n",
       "    <tr>\n",
       "      <th>28</th>\n",
       "      <td>128</td>\n",
       "      <td>Steven</td>\n",
       "      <td>Markle</td>\n",
       "      <td>SMARKLE</td>\n",
       "      <td>650.124.1434</td>\n",
       "      <td>1987-07-15</td>\n",
       "      <td>ST_CLERK</td>\n",
       "      <td>2200</td>\n",
       "      <td>NaN</td>\n",
       "      <td>120.0</td>\n",
       "      <td>50.0</td>\n",
       "    </tr>\n",
       "    <tr>\n",
       "      <th>29</th>\n",
       "      <td>129</td>\n",
       "      <td>Laura</td>\n",
       "      <td>Bissot</td>\n",
       "      <td>LBISSOT</td>\n",
       "      <td>650.124.5234</td>\n",
       "      <td>1987-07-16</td>\n",
       "      <td>ST_CLERK</td>\n",
       "      <td>3300</td>\n",
       "      <td>NaN</td>\n",
       "      <td>121.0</td>\n",
       "      <td>50.0</td>\n",
       "    </tr>\n",
       "    <tr>\n",
       "      <th>30</th>\n",
       "      <td>130</td>\n",
       "      <td>Mozhe</td>\n",
       "      <td>Atkinson</td>\n",
       "      <td>MATKINSO</td>\n",
       "      <td>650.124.6234</td>\n",
       "      <td>1987-07-17</td>\n",
       "      <td>ST_CLERK</td>\n",
       "      <td>2800</td>\n",
       "      <td>NaN</td>\n",
       "      <td>121.0</td>\n",
       "      <td>50.0</td>\n",
       "    </tr>\n",
       "    <tr>\n",
       "      <th>31</th>\n",
       "      <td>131</td>\n",
       "      <td>James</td>\n",
       "      <td>Marlow</td>\n",
       "      <td>JAMRLOW</td>\n",
       "      <td>650.124.7234</td>\n",
       "      <td>1987-07-18</td>\n",
       "      <td>ST_CLERK</td>\n",
       "      <td>2500</td>\n",
       "      <td>NaN</td>\n",
       "      <td>121.0</td>\n",
       "      <td>50.0</td>\n",
       "    </tr>\n",
       "    <tr>\n",
       "      <th>32</th>\n",
       "      <td>132</td>\n",
       "      <td>TJ</td>\n",
       "      <td>Olson</td>\n",
       "      <td>TJOLSON</td>\n",
       "      <td>650.124.8234</td>\n",
       "      <td>1987-07-19</td>\n",
       "      <td>ST_CLERK</td>\n",
       "      <td>2100</td>\n",
       "      <td>NaN</td>\n",
       "      <td>121.0</td>\n",
       "      <td>50.0</td>\n",
       "    </tr>\n",
       "    <tr>\n",
       "      <th>33</th>\n",
       "      <td>133</td>\n",
       "      <td>Jason</td>\n",
       "      <td>Mallin</td>\n",
       "      <td>JMALLIN</td>\n",
       "      <td>650.127.1934</td>\n",
       "      <td>1987-07-20</td>\n",
       "      <td>ST_CLERK</td>\n",
       "      <td>3300</td>\n",
       "      <td>NaN</td>\n",
       "      <td>122.0</td>\n",
       "      <td>50.0</td>\n",
       "    </tr>\n",
       "    <tr>\n",
       "      <th>34</th>\n",
       "      <td>134</td>\n",
       "      <td>Michael</td>\n",
       "      <td>Rogers</td>\n",
       "      <td>MROGERS</td>\n",
       "      <td>650.127.1834</td>\n",
       "      <td>1987-07-21</td>\n",
       "      <td>ST_CLERK</td>\n",
       "      <td>2900</td>\n",
       "      <td>NaN</td>\n",
       "      <td>122.0</td>\n",
       "      <td>50.0</td>\n",
       "    </tr>\n",
       "    <tr>\n",
       "      <th>35</th>\n",
       "      <td>135</td>\n",
       "      <td>Ki</td>\n",
       "      <td>Gee</td>\n",
       "      <td>KGEE</td>\n",
       "      <td>650.127.1734</td>\n",
       "      <td>1987-07-22</td>\n",
       "      <td>ST_CLERK</td>\n",
       "      <td>2400</td>\n",
       "      <td>NaN</td>\n",
       "      <td>122.0</td>\n",
       "      <td>50.0</td>\n",
       "    </tr>\n",
       "    <tr>\n",
       "      <th>...</th>\n",
       "      <td>...</td>\n",
       "      <td>...</td>\n",
       "      <td>...</td>\n",
       "      <td>...</td>\n",
       "      <td>...</td>\n",
       "      <td>...</td>\n",
       "      <td>...</td>\n",
       "      <td>...</td>\n",
       "      <td>...</td>\n",
       "      <td>...</td>\n",
       "      <td>...</td>\n",
       "    </tr>\n",
       "    <tr>\n",
       "      <th>43</th>\n",
       "      <td>143</td>\n",
       "      <td>Randall</td>\n",
       "      <td>Matos</td>\n",
       "      <td>RMATOS</td>\n",
       "      <td>650.121.2874</td>\n",
       "      <td>1987-07-30</td>\n",
       "      <td>ST_CLERK</td>\n",
       "      <td>2600</td>\n",
       "      <td>NaN</td>\n",
       "      <td>124.0</td>\n",
       "      <td>50.0</td>\n",
       "    </tr>\n",
       "    <tr>\n",
       "      <th>44</th>\n",
       "      <td>144</td>\n",
       "      <td>Peter</td>\n",
       "      <td>Vargas</td>\n",
       "      <td>PVARGAS</td>\n",
       "      <td>650.121.2004</td>\n",
       "      <td>1987-07-31</td>\n",
       "      <td>ST_CLERK</td>\n",
       "      <td>2500</td>\n",
       "      <td>NaN</td>\n",
       "      <td>124.0</td>\n",
       "      <td>50.0</td>\n",
       "    </tr>\n",
       "    <tr>\n",
       "      <th>78</th>\n",
       "      <td>178</td>\n",
       "      <td>Kimberely</td>\n",
       "      <td>Grant</td>\n",
       "      <td>KGRANT</td>\n",
       "      <td>011.44.1644.429263</td>\n",
       "      <td>1987-09-03</td>\n",
       "      <td>SA_REP</td>\n",
       "      <td>7000</td>\n",
       "      <td>0.15</td>\n",
       "      <td>149.0</td>\n",
       "      <td>NaN</td>\n",
       "    </tr>\n",
       "    <tr>\n",
       "      <th>80</th>\n",
       "      <td>180</td>\n",
       "      <td>Winston</td>\n",
       "      <td>Taylor</td>\n",
       "      <td>WTAYLOR</td>\n",
       "      <td>650.507.9876</td>\n",
       "      <td>1987-09-05</td>\n",
       "      <td>SH_CLERK</td>\n",
       "      <td>3200</td>\n",
       "      <td>NaN</td>\n",
       "      <td>120.0</td>\n",
       "      <td>50.0</td>\n",
       "    </tr>\n",
       "    <tr>\n",
       "      <th>81</th>\n",
       "      <td>181</td>\n",
       "      <td>Jean</td>\n",
       "      <td>Fleaur</td>\n",
       "      <td>JFLEAUR</td>\n",
       "      <td>650.507.9877</td>\n",
       "      <td>1987-09-06</td>\n",
       "      <td>SH_CLERK</td>\n",
       "      <td>3100</td>\n",
       "      <td>NaN</td>\n",
       "      <td>120.0</td>\n",
       "      <td>50.0</td>\n",
       "    </tr>\n",
       "    <tr>\n",
       "      <th>82</th>\n",
       "      <td>182</td>\n",
       "      <td>Martha</td>\n",
       "      <td>Sullivan</td>\n",
       "      <td>MSULLIVA</td>\n",
       "      <td>650.507.9878</td>\n",
       "      <td>1987-09-07</td>\n",
       "      <td>SH_CLERK</td>\n",
       "      <td>2500</td>\n",
       "      <td>NaN</td>\n",
       "      <td>120.0</td>\n",
       "      <td>50.0</td>\n",
       "    </tr>\n",
       "    <tr>\n",
       "      <th>83</th>\n",
       "      <td>183</td>\n",
       "      <td>Girard</td>\n",
       "      <td>Geoni</td>\n",
       "      <td>GGEONI</td>\n",
       "      <td>650.507.9879</td>\n",
       "      <td>1987-09-08</td>\n",
       "      <td>SH_CLERK</td>\n",
       "      <td>2800</td>\n",
       "      <td>NaN</td>\n",
       "      <td>120.0</td>\n",
       "      <td>50.0</td>\n",
       "    </tr>\n",
       "    <tr>\n",
       "      <th>84</th>\n",
       "      <td>184</td>\n",
       "      <td>Nandita</td>\n",
       "      <td>Sarchand</td>\n",
       "      <td>NSARCHAN</td>\n",
       "      <td>650.509.1876</td>\n",
       "      <td>1987-09-09</td>\n",
       "      <td>SH_CLERK</td>\n",
       "      <td>4200</td>\n",
       "      <td>NaN</td>\n",
       "      <td>121.0</td>\n",
       "      <td>50.0</td>\n",
       "    </tr>\n",
       "    <tr>\n",
       "      <th>85</th>\n",
       "      <td>185</td>\n",
       "      <td>Alexis</td>\n",
       "      <td>Bull</td>\n",
       "      <td>ABULL</td>\n",
       "      <td>650.509.2876</td>\n",
       "      <td>1987-09-10</td>\n",
       "      <td>SH_CLERK</td>\n",
       "      <td>4100</td>\n",
       "      <td>NaN</td>\n",
       "      <td>121.0</td>\n",
       "      <td>50.0</td>\n",
       "    </tr>\n",
       "    <tr>\n",
       "      <th>86</th>\n",
       "      <td>186</td>\n",
       "      <td>Julia</td>\n",
       "      <td>Dellinger</td>\n",
       "      <td>JDELLING</td>\n",
       "      <td>650.509.3876</td>\n",
       "      <td>1987-09-11</td>\n",
       "      <td>SH_CLERK</td>\n",
       "      <td>3400</td>\n",
       "      <td>NaN</td>\n",
       "      <td>121.0</td>\n",
       "      <td>50.0</td>\n",
       "    </tr>\n",
       "    <tr>\n",
       "      <th>87</th>\n",
       "      <td>187</td>\n",
       "      <td>Anthony</td>\n",
       "      <td>Cabrio</td>\n",
       "      <td>ACABRIO</td>\n",
       "      <td>650.509.4876</td>\n",
       "      <td>1987-09-12</td>\n",
       "      <td>SH_CLERK</td>\n",
       "      <td>3000</td>\n",
       "      <td>NaN</td>\n",
       "      <td>121.0</td>\n",
       "      <td>50.0</td>\n",
       "    </tr>\n",
       "    <tr>\n",
       "      <th>88</th>\n",
       "      <td>188</td>\n",
       "      <td>Kelly</td>\n",
       "      <td>Chung</td>\n",
       "      <td>KCHUNG</td>\n",
       "      <td>650.505.1876</td>\n",
       "      <td>1987-09-13</td>\n",
       "      <td>SH_CLERK</td>\n",
       "      <td>3800</td>\n",
       "      <td>NaN</td>\n",
       "      <td>122.0</td>\n",
       "      <td>50.0</td>\n",
       "    </tr>\n",
       "    <tr>\n",
       "      <th>89</th>\n",
       "      <td>189</td>\n",
       "      <td>Jennifer</td>\n",
       "      <td>Dilly</td>\n",
       "      <td>JDILLY</td>\n",
       "      <td>650.505.2876</td>\n",
       "      <td>1987-09-14</td>\n",
       "      <td>SH_CLERK</td>\n",
       "      <td>3600</td>\n",
       "      <td>NaN</td>\n",
       "      <td>122.0</td>\n",
       "      <td>50.0</td>\n",
       "    </tr>\n",
       "    <tr>\n",
       "      <th>90</th>\n",
       "      <td>190</td>\n",
       "      <td>Timothy</td>\n",
       "      <td>Gates</td>\n",
       "      <td>TGATES</td>\n",
       "      <td>650.505.3876</td>\n",
       "      <td>1987-09-15</td>\n",
       "      <td>SH_CLERK</td>\n",
       "      <td>2900</td>\n",
       "      <td>NaN</td>\n",
       "      <td>122.0</td>\n",
       "      <td>50.0</td>\n",
       "    </tr>\n",
       "    <tr>\n",
       "      <th>91</th>\n",
       "      <td>191</td>\n",
       "      <td>Randall</td>\n",
       "      <td>Perkins</td>\n",
       "      <td>RPERKINS</td>\n",
       "      <td>650.505.4876</td>\n",
       "      <td>1987-09-16</td>\n",
       "      <td>SH_CLERK</td>\n",
       "      <td>2500</td>\n",
       "      <td>NaN</td>\n",
       "      <td>122.0</td>\n",
       "      <td>50.0</td>\n",
       "    </tr>\n",
       "    <tr>\n",
       "      <th>92</th>\n",
       "      <td>192</td>\n",
       "      <td>Sarah</td>\n",
       "      <td>Bell</td>\n",
       "      <td>SBELL</td>\n",
       "      <td>650.501.1876</td>\n",
       "      <td>1987-09-17</td>\n",
       "      <td>SH_CLERK</td>\n",
       "      <td>4000</td>\n",
       "      <td>NaN</td>\n",
       "      <td>123.0</td>\n",
       "      <td>50.0</td>\n",
       "    </tr>\n",
       "    <tr>\n",
       "      <th>93</th>\n",
       "      <td>193</td>\n",
       "      <td>Britney</td>\n",
       "      <td>Everett</td>\n",
       "      <td>BEVERETT</td>\n",
       "      <td>650.501.2876</td>\n",
       "      <td>1987-09-18</td>\n",
       "      <td>SH_CLERK</td>\n",
       "      <td>3900</td>\n",
       "      <td>NaN</td>\n",
       "      <td>123.0</td>\n",
       "      <td>50.0</td>\n",
       "    </tr>\n",
       "    <tr>\n",
       "      <th>94</th>\n",
       "      <td>194</td>\n",
       "      <td>Samuel</td>\n",
       "      <td>McCain</td>\n",
       "      <td>SMCCAIN</td>\n",
       "      <td>650.501.3876</td>\n",
       "      <td>1987-09-19</td>\n",
       "      <td>SH_CLERK</td>\n",
       "      <td>3200</td>\n",
       "      <td>NaN</td>\n",
       "      <td>123.0</td>\n",
       "      <td>50.0</td>\n",
       "    </tr>\n",
       "    <tr>\n",
       "      <th>95</th>\n",
       "      <td>195</td>\n",
       "      <td>Vance</td>\n",
       "      <td>Jones</td>\n",
       "      <td>VJONES</td>\n",
       "      <td>650.501.4876</td>\n",
       "      <td>1987-09-20</td>\n",
       "      <td>SH_CLERK</td>\n",
       "      <td>2800</td>\n",
       "      <td>NaN</td>\n",
       "      <td>123.0</td>\n",
       "      <td>50.0</td>\n",
       "    </tr>\n",
       "    <tr>\n",
       "      <th>96</th>\n",
       "      <td>196</td>\n",
       "      <td>Alana</td>\n",
       "      <td>Walsh</td>\n",
       "      <td>AWALSH</td>\n",
       "      <td>650.507.9811</td>\n",
       "      <td>1987-09-21</td>\n",
       "      <td>SH_CLERK</td>\n",
       "      <td>3100</td>\n",
       "      <td>NaN</td>\n",
       "      <td>124.0</td>\n",
       "      <td>50.0</td>\n",
       "    </tr>\n",
       "    <tr>\n",
       "      <th>97</th>\n",
       "      <td>197</td>\n",
       "      <td>Kevin</td>\n",
       "      <td>Feeney</td>\n",
       "      <td>KFEENEY</td>\n",
       "      <td>650.507.9822</td>\n",
       "      <td>1987-09-22</td>\n",
       "      <td>SH_CLERK</td>\n",
       "      <td>3000</td>\n",
       "      <td>NaN</td>\n",
       "      <td>124.0</td>\n",
       "      <td>50.0</td>\n",
       "    </tr>\n",
       "    <tr>\n",
       "      <th>98</th>\n",
       "      <td>198</td>\n",
       "      <td>Donald</td>\n",
       "      <td>OConnell</td>\n",
       "      <td>DOCONNEL</td>\n",
       "      <td>650.507.9833</td>\n",
       "      <td>1987-09-23</td>\n",
       "      <td>SH_CLERK</td>\n",
       "      <td>2600</td>\n",
       "      <td>NaN</td>\n",
       "      <td>124.0</td>\n",
       "      <td>50.0</td>\n",
       "    </tr>\n",
       "    <tr>\n",
       "      <th>99</th>\n",
       "      <td>199</td>\n",
       "      <td>Douglas</td>\n",
       "      <td>Grant</td>\n",
       "      <td>DGRANT</td>\n",
       "      <td>650.507.9844</td>\n",
       "      <td>1987-09-24</td>\n",
       "      <td>SH_CLERK</td>\n",
       "      <td>2600</td>\n",
       "      <td>NaN</td>\n",
       "      <td>124.0</td>\n",
       "      <td>50.0</td>\n",
       "    </tr>\n",
       "    <tr>\n",
       "      <th>100</th>\n",
       "      <td>200</td>\n",
       "      <td>Jennifer</td>\n",
       "      <td>Whalen</td>\n",
       "      <td>JWHALEN</td>\n",
       "      <td>515.123.4444</td>\n",
       "      <td>1987-09-25</td>\n",
       "      <td>AD_ASST</td>\n",
       "      <td>4400</td>\n",
       "      <td>NaN</td>\n",
       "      <td>101.0</td>\n",
       "      <td>10.0</td>\n",
       "    </tr>\n",
       "    <tr>\n",
       "      <th>101</th>\n",
       "      <td>201</td>\n",
       "      <td>Michael</td>\n",
       "      <td>Hartstein</td>\n",
       "      <td>MHARTSTE</td>\n",
       "      <td>515.123.5555</td>\n",
       "      <td>1987-09-26</td>\n",
       "      <td>MK_MAN</td>\n",
       "      <td>13000</td>\n",
       "      <td>NaN</td>\n",
       "      <td>100.0</td>\n",
       "      <td>20.0</td>\n",
       "    </tr>\n",
       "    <tr>\n",
       "      <th>102</th>\n",
       "      <td>202</td>\n",
       "      <td>Pat</td>\n",
       "      <td>Fay</td>\n",
       "      <td>PFAY</td>\n",
       "      <td>603.123.6666</td>\n",
       "      <td>1987-09-27</td>\n",
       "      <td>MK_REP</td>\n",
       "      <td>6000</td>\n",
       "      <td>NaN</td>\n",
       "      <td>201.0</td>\n",
       "      <td>20.0</td>\n",
       "    </tr>\n",
       "    <tr>\n",
       "      <th>103</th>\n",
       "      <td>203</td>\n",
       "      <td>Susan</td>\n",
       "      <td>Mavris</td>\n",
       "      <td>SMAVRIS</td>\n",
       "      <td>515.123.7777</td>\n",
       "      <td>1987-09-28</td>\n",
       "      <td>HR_REP</td>\n",
       "      <td>6500</td>\n",
       "      <td>NaN</td>\n",
       "      <td>101.0</td>\n",
       "      <td>40.0</td>\n",
       "    </tr>\n",
       "    <tr>\n",
       "      <th>104</th>\n",
       "      <td>204</td>\n",
       "      <td>Hermann</td>\n",
       "      <td>Baer</td>\n",
       "      <td>HBAER</td>\n",
       "      <td>515.123.8888</td>\n",
       "      <td>1987-09-29</td>\n",
       "      <td>PR_REP</td>\n",
       "      <td>10000</td>\n",
       "      <td>NaN</td>\n",
       "      <td>101.0</td>\n",
       "      <td>70.0</td>\n",
       "    </tr>\n",
       "    <tr>\n",
       "      <th>105</th>\n",
       "      <td>205</td>\n",
       "      <td>Shelley</td>\n",
       "      <td>Higgins</td>\n",
       "      <td>SHIGGINS</td>\n",
       "      <td>515.123.8080</td>\n",
       "      <td>1987-09-30</td>\n",
       "      <td>AC_MGR</td>\n",
       "      <td>12000</td>\n",
       "      <td>NaN</td>\n",
       "      <td>101.0</td>\n",
       "      <td>110.0</td>\n",
       "    </tr>\n",
       "    <tr>\n",
       "      <th>106</th>\n",
       "      <td>206</td>\n",
       "      <td>William</td>\n",
       "      <td>Gietz</td>\n",
       "      <td>WGIETZ</td>\n",
       "      <td>515.123.8181</td>\n",
       "      <td>1987-10-01</td>\n",
       "      <td>AC_ACCOUNT</td>\n",
       "      <td>8300</td>\n",
       "      <td>NaN</td>\n",
       "      <td>205.0</td>\n",
       "      <td>110.0</td>\n",
       "    </tr>\n",
       "  </tbody>\n",
       "</table>\n",
       "<p>67 rows × 11 columns</p>\n",
       "</div>"
      ],
      "text/plain": [
       "     employ_id   first_name    last_name     email        phone_number  \\\n",
       "0          100       Steven         King     SKING        515.123.4567   \n",
       "1          101        Neena      Kochhar  NKOCHHAR        515.123.4568   \n",
       "2          102          Lex      De Haan   LDEHAAN        515.123.4569   \n",
       "3          103    Alexander       Hunold   AHUNOLD        590.423.4567   \n",
       "4          104        Bruce        Ernst    BERNST        590.423.4568   \n",
       "5          105        David       Austin   DAUSTIN        590.423.4569   \n",
       "6          106        Valli    Pataballa  VPATABAL        590.423.4560   \n",
       "7          107        Diana      Lorentz  DLORENTZ        590.423.5567   \n",
       "8          108        Nancy    Greenberg  NGREENBE        515.124.4569   \n",
       "9          109       Daniel       Faviet   DFAVIET        515.124.4169   \n",
       "10         110         John         Chen     JCHEN        515.124.4269   \n",
       "11         111       Ismael      Sciarra  ISCIARRA        515.124.4369   \n",
       "12         112  Jose Manuel        Urman   JMURMAN        515.124.4469   \n",
       "13         113         Luis         Popp     LPOPP        515.124.4567   \n",
       "20         120      Matthew        Weiss    MWEISS        650.123.1234   \n",
       "21         121         Adam        Fripp    AFRIPP        650.123.2234   \n",
       "22         122        Payam     Kaufling  PKAUFLIN        650.123.3234   \n",
       "23         123       Shanta      Vollman  SVOLLMAN        650.123.4234   \n",
       "24         124        Kevin      Mourgos  KMOURGOS        650.123.5234   \n",
       "25         125        Julia        Nayer    JNAYER        650.124.1214   \n",
       "26         126        Irene  Mikkilineni  IMIKKILI        650.124.1224   \n",
       "27         127        James       Landry   JLANDRY        650.124.1334   \n",
       "28         128       Steven       Markle   SMARKLE        650.124.1434   \n",
       "29         129        Laura       Bissot   LBISSOT        650.124.5234   \n",
       "30         130        Mozhe     Atkinson  MATKINSO        650.124.6234   \n",
       "31         131        James       Marlow   JAMRLOW        650.124.7234   \n",
       "32         132           TJ        Olson   TJOLSON        650.124.8234   \n",
       "33         133        Jason       Mallin   JMALLIN        650.127.1934   \n",
       "34         134      Michael       Rogers   MROGERS        650.127.1834   \n",
       "35         135           Ki          Gee      KGEE        650.127.1734   \n",
       "..         ...          ...          ...       ...                 ...   \n",
       "43         143      Randall        Matos    RMATOS        650.121.2874   \n",
       "44         144        Peter       Vargas   PVARGAS        650.121.2004   \n",
       "78         178    Kimberely        Grant    KGRANT  011.44.1644.429263   \n",
       "80         180      Winston       Taylor   WTAYLOR        650.507.9876   \n",
       "81         181         Jean       Fleaur   JFLEAUR        650.507.9877   \n",
       "82         182       Martha     Sullivan  MSULLIVA        650.507.9878   \n",
       "83         183       Girard        Geoni    GGEONI        650.507.9879   \n",
       "84         184      Nandita     Sarchand  NSARCHAN        650.509.1876   \n",
       "85         185       Alexis         Bull     ABULL        650.509.2876   \n",
       "86         186        Julia    Dellinger  JDELLING        650.509.3876   \n",
       "87         187      Anthony       Cabrio   ACABRIO        650.509.4876   \n",
       "88         188        Kelly        Chung    KCHUNG        650.505.1876   \n",
       "89         189     Jennifer        Dilly    JDILLY        650.505.2876   \n",
       "90         190      Timothy        Gates    TGATES        650.505.3876   \n",
       "91         191      Randall      Perkins  RPERKINS        650.505.4876   \n",
       "92         192        Sarah         Bell     SBELL        650.501.1876   \n",
       "93         193      Britney      Everett  BEVERETT        650.501.2876   \n",
       "94         194       Samuel       McCain   SMCCAIN        650.501.3876   \n",
       "95         195        Vance        Jones    VJONES        650.501.4876   \n",
       "96         196        Alana        Walsh    AWALSH        650.507.9811   \n",
       "97         197        Kevin       Feeney   KFEENEY        650.507.9822   \n",
       "98         198       Donald     OConnell  DOCONNEL        650.507.9833   \n",
       "99         199      Douglas        Grant    DGRANT        650.507.9844   \n",
       "100        200     Jennifer       Whalen   JWHALEN        515.123.4444   \n",
       "101        201      Michael    Hartstein  MHARTSTE        515.123.5555   \n",
       "102        202          Pat          Fay      PFAY        603.123.6666   \n",
       "103        203        Susan       Mavris   SMAVRIS        515.123.7777   \n",
       "104        204      Hermann         Baer     HBAER        515.123.8888   \n",
       "105        205      Shelley      Higgins  SHIGGINS        515.123.8080   \n",
       "106        206      William        Gietz    WGIETZ        515.123.8181   \n",
       "\n",
       "      hire_date      job_id  salary  commission_pct  manager_id  department_id  \n",
       "0    1987-06-17     AD_PRES   24000             NaN         NaN           90.0  \n",
       "1    1987-06-18       AD_VP   17000             NaN       100.0           90.0  \n",
       "2    1987-06-19       AD_VP   17000             NaN       100.0           90.0  \n",
       "3    1987-06-20     IT_PROG    9000             NaN       102.0           60.0  \n",
       "4    1987-06-21     IT_PROG    6000             NaN       103.0           60.0  \n",
       "5    1987-06-22     IT_PROG    4800             NaN       103.0           60.0  \n",
       "6    1987-06-23     IT_PROG    4800             NaN       103.0           60.0  \n",
       "7    1987-06-24     IT_PROG    4200             NaN       103.0           60.0  \n",
       "8    1987-06-25      FI_MGR   12000             NaN       101.0          100.0  \n",
       "9    1987-06-26  FI_ACCOUNT    9000             NaN       108.0          100.0  \n",
       "10   1987-06-27  FI_ACCOUNT    8200             NaN       108.0          100.0  \n",
       "11   1987-06-28  FI_ACCOUNT    7700             NaN       108.0          100.0  \n",
       "12   1987-06-29  FI_ACCOUNT    7800             NaN       108.0          100.0  \n",
       "13   1987-06-30  FI_ACCOUNT    6900             NaN       108.0          100.0  \n",
       "20   1987-07-07      ST_MAN    8000             NaN       100.0           50.0  \n",
       "21   1987-07-08      ST_MAN    8200             NaN       100.0           50.0  \n",
       "22   1987-07-09      ST_MAN    7900             NaN       100.0           50.0  \n",
       "23   1987-07-10      ST_MAN    6500             NaN       100.0           50.0  \n",
       "24   1987-07-11      ST_MAN    5800             NaN       100.0           50.0  \n",
       "25   1987-07-12    ST_CLERK    3200             NaN       120.0           50.0  \n",
       "26   1987-07-13    ST_CLERK    2700             NaN       120.0           50.0  \n",
       "27   1987-07-14    ST_CLERK    2400             NaN       120.0           50.0  \n",
       "28   1987-07-15    ST_CLERK    2200             NaN       120.0           50.0  \n",
       "29   1987-07-16    ST_CLERK    3300             NaN       121.0           50.0  \n",
       "30   1987-07-17    ST_CLERK    2800             NaN       121.0           50.0  \n",
       "31   1987-07-18    ST_CLERK    2500             NaN       121.0           50.0  \n",
       "32   1987-07-19    ST_CLERK    2100             NaN       121.0           50.0  \n",
       "33   1987-07-20    ST_CLERK    3300             NaN       122.0           50.0  \n",
       "34   1987-07-21    ST_CLERK    2900             NaN       122.0           50.0  \n",
       "35   1987-07-22    ST_CLERK    2400             NaN       122.0           50.0  \n",
       "..          ...         ...     ...             ...         ...            ...  \n",
       "43   1987-07-30    ST_CLERK    2600             NaN       124.0           50.0  \n",
       "44   1987-07-31    ST_CLERK    2500             NaN       124.0           50.0  \n",
       "78   1987-09-03      SA_REP    7000            0.15       149.0            NaN  \n",
       "80   1987-09-05    SH_CLERK    3200             NaN       120.0           50.0  \n",
       "81   1987-09-06    SH_CLERK    3100             NaN       120.0           50.0  \n",
       "82   1987-09-07    SH_CLERK    2500             NaN       120.0           50.0  \n",
       "83   1987-09-08    SH_CLERK    2800             NaN       120.0           50.0  \n",
       "84   1987-09-09    SH_CLERK    4200             NaN       121.0           50.0  \n",
       "85   1987-09-10    SH_CLERK    4100             NaN       121.0           50.0  \n",
       "86   1987-09-11    SH_CLERK    3400             NaN       121.0           50.0  \n",
       "87   1987-09-12    SH_CLERK    3000             NaN       121.0           50.0  \n",
       "88   1987-09-13    SH_CLERK    3800             NaN       122.0           50.0  \n",
       "89   1987-09-14    SH_CLERK    3600             NaN       122.0           50.0  \n",
       "90   1987-09-15    SH_CLERK    2900             NaN       122.0           50.0  \n",
       "91   1987-09-16    SH_CLERK    2500             NaN       122.0           50.0  \n",
       "92   1987-09-17    SH_CLERK    4000             NaN       123.0           50.0  \n",
       "93   1987-09-18    SH_CLERK    3900             NaN       123.0           50.0  \n",
       "94   1987-09-19    SH_CLERK    3200             NaN       123.0           50.0  \n",
       "95   1987-09-20    SH_CLERK    2800             NaN       123.0           50.0  \n",
       "96   1987-09-21    SH_CLERK    3100             NaN       124.0           50.0  \n",
       "97   1987-09-22    SH_CLERK    3000             NaN       124.0           50.0  \n",
       "98   1987-09-23    SH_CLERK    2600             NaN       124.0           50.0  \n",
       "99   1987-09-24    SH_CLERK    2600             NaN       124.0           50.0  \n",
       "100  1987-09-25     AD_ASST    4400             NaN       101.0           10.0  \n",
       "101  1987-09-26      MK_MAN   13000             NaN       100.0           20.0  \n",
       "102  1987-09-27      MK_REP    6000             NaN       201.0           20.0  \n",
       "103  1987-09-28      HR_REP    6500             NaN       101.0           40.0  \n",
       "104  1987-09-29      PR_REP   10000             NaN       101.0           70.0  \n",
       "105  1987-09-30      AC_MGR   12000             NaN       101.0          110.0  \n",
       "106  1987-10-01  AC_ACCOUNT    8300             NaN       205.0          110.0  \n",
       "\n",
       "[67 rows x 11 columns]"
      ]
     },
     "execution_count": 74,
     "metadata": {},
     "output_type": "execute_result"
    }
   ],
   "source": [
    "resultado"
   ]
  }
 ],
 "metadata": {
  "kernelspec": {
   "display_name": "Python 3",
   "language": "python",
   "name": "python3"
  },
  "language_info": {
   "codemirror_mode": {
    "name": "ipython",
    "version": 3
   },
   "file_extension": ".py",
   "mimetype": "text/x-python",
   "name": "python",
   "nbconvert_exporter": "python",
   "pygments_lexer": "ipython3",
   "version": "3.7.3"
  }
 },
 "nbformat": 4,
 "nbformat_minor": 2
}
